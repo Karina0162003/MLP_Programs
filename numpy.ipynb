{
  "nbformat": 4,
  "nbformat_minor": 0,
  "metadata": {
    "colab": {
      "provenance": [],
      "include_colab_link": true
    },
    "kernelspec": {
      "name": "python3",
      "display_name": "Python 3"
    },
    "language_info": {
      "name": "python"
    }
  },
  "cells": [
    {
      "cell_type": "markdown",
      "metadata": {
        "id": "view-in-github",
        "colab_type": "text"
      },
      "source": [
        "<a href=\"https://colab.research.google.com/github/Karina0162003/MLP_Programs/blob/main/numpy.ipynb\" target=\"_parent\"><img src=\"https://colab.research.google.com/assets/colab-badge.svg\" alt=\"Open In Colab\"/></a>"
      ]
    },
    {
      "cell_type": "code",
      "execution_count": null,
      "metadata": {
        "id": "V5gAYkWaRmHm"
      },
      "outputs": [],
      "source": [
        "import numpy as np"
      ]
    },
    {
      "cell_type": "code",
      "source": [
        "#create array\n",
        "arr1 = np.array([10,20,30])\n",
        "arr1"
      ],
      "metadata": {
        "colab": {
          "base_uri": "https://localhost:8080/"
        },
        "id": "zP2_5wfXRyZy",
        "outputId": "9103f116-5f13-48f8-d54d-c0100a91e498"
      },
      "execution_count": null,
      "outputs": [
        {
          "output_type": "execute_result",
          "data": {
            "text/plain": [
              "array([10, 20, 30])"
            ]
          },
          "metadata": {},
          "execution_count": 2
        }
      ]
    },
    {
      "cell_type": "code",
      "source": [
        "#check the type for array1\n",
        "print(type(arr1))"
      ],
      "metadata": {
        "colab": {
          "base_uri": "https://localhost:8080/"
        },
        "id": "eMX7OVlWR6M4",
        "outputId": "3b858cdb-7708-41c0-824d-a862da67d3c3"
      },
      "execution_count": null,
      "outputs": [
        {
          "output_type": "stream",
          "name": "stdout",
          "text": [
            "<class 'numpy.ndarray'>\n"
          ]
        }
      ]
    },
    {
      "cell_type": "code",
      "source": [
        "#check array dimension\n",
        "print(arr1.ndim)"
      ],
      "metadata": {
        "colab": {
          "base_uri": "https://localhost:8080/"
        },
        "id": "UaslBOzWR-AR",
        "outputId": "7789b245-8151-480f-c544-931ee9ecbcdc"
      },
      "execution_count": null,
      "outputs": [
        {
          "output_type": "stream",
          "name": "stdout",
          "text": [
            "1\n"
          ]
        }
      ]
    },
    {
      "cell_type": "code",
      "source": [
        "arr2=np.array([[101,102,103,],[104,105,106,],]) #create the two dimension array\n",
        "print(arr2) #print the array\n",
        "print(type(arr2)) #check size of array\n",
        "print(arr2.dtype) #check the datatype for array\n",
        "print(arr2.itemsize) #check the array for item-size\n",
        "print(arr2.shape) #show the shape of arr2"
      ],
      "metadata": {
        "colab": {
          "base_uri": "https://localhost:8080/"
        },
        "id": "W3UrmSKCSiS_",
        "outputId": "2f4e2538-d899-4091-fe4a-1f49d3b085b6"
      },
      "execution_count": null,
      "outputs": [
        {
          "output_type": "stream",
          "name": "stdout",
          "text": [
            "[[101 102 103]\n",
            " [104 105 106]]\n",
            "<class 'numpy.ndarray'>\n",
            "int64\n",
            "8\n",
            "(2, 3)\n"
          ]
        }
      ]
    },
    {
      "cell_type": "code",
      "source": [
        "arr3=np.array([1,2,3,4,5,6,7,8,9]) #create array3\n",
        "print(arr3)"
      ],
      "metadata": {
        "colab": {
          "base_uri": "https://localhost:8080/"
        },
        "id": "L70vs9ERS07w",
        "outputId": "8815bdd9-16f9-4aa0-ae44-26c3311c79ef"
      },
      "execution_count": null,
      "outputs": [
        {
          "output_type": "stream",
          "name": "stdout",
          "text": [
            "[1 2 3 4 5 6 7 8 9]\n"
          ]
        }
      ]
    },
    {
      "cell_type": "code",
      "source": [
        "arr4=arr3.reshape(3,3) #create 3 by 3 matrix using reshape\n",
        "print(arr4) #print the matrix"
      ],
      "metadata": {
        "colab": {
          "base_uri": "https://localhost:8080/"
        },
        "id": "g3tJQNleUBzI",
        "outputId": "6af2077f-db55-4dc6-eda7-b8913167b91d"
      },
      "execution_count": null,
      "outputs": [
        {
          "output_type": "stream",
          "name": "stdout",
          "text": [
            "[[1 2 3]\n",
            " [4 5 6]\n",
            " [7 8 9]]\n"
          ]
        }
      ]
    },
    {
      "cell_type": "code",
      "source": [
        "#Divide into 5 parts using linspace\n",
        "arr5=np.linspace(1,3,5)\n",
        "print(arr5)"
      ],
      "metadata": {
        "colab": {
          "base_uri": "https://localhost:8080/"
        },
        "id": "RmCuvmj5UNqO",
        "outputId": "103d60b9-8b96-443a-b66d-b56580092dda"
      },
      "execution_count": null,
      "outputs": [
        {
          "output_type": "stream",
          "name": "stdout",
          "text": [
            "[1.  1.5 2.  2.5 3. ]\n"
          ]
        }
      ]
    },
    {
      "cell_type": "code",
      "source": [
        "#Create 3 by 3 matrix with all zeros using zeros function\n",
        "arr6=np.zeros((3,3))\n",
        "print(arr6)"
      ],
      "metadata": {
        "colab": {
          "base_uri": "https://localhost:8080/"
        },
        "id": "mt-ZDUKxU8MC",
        "outputId": "36527361-fd47-4e18-c9e9-33ccb9dab001"
      },
      "execution_count": null,
      "outputs": [
        {
          "output_type": "stream",
          "name": "stdout",
          "text": [
            "[[0. 0. 0.]\n",
            " [0. 0. 0.]\n",
            " [0. 0. 0.]]\n"
          ]
        }
      ]
    },
    {
      "cell_type": "code",
      "source": [
        "#Create 3 by 5 matrix with all ones using ones function\n",
        "arr7=np.ones((3,5))\n",
        "print(arr7)"
      ],
      "metadata": {
        "colab": {
          "base_uri": "https://localhost:8080/"
        },
        "id": "rlCz_zQkVcjr",
        "outputId": "386c10f1-3b65-4462-a191-a8ff61040771"
      },
      "execution_count": null,
      "outputs": [
        {
          "output_type": "stream",
          "name": "stdout",
          "text": [
            "[[1. 1. 1. 1. 1.]\n",
            " [1. 1. 1. 1. 1.]\n",
            " [1. 1. 1. 1. 1.]]\n"
          ]
        }
      ]
    },
    {
      "cell_type": "code",
      "source": [
        "#arange - store 0 to 9 value into arr8\n",
        "arr8=np.arange(9)\n",
        "print(arr8)"
      ],
      "metadata": {
        "colab": {
          "base_uri": "https://localhost:8080/"
        },
        "id": "QOazV04vV56O",
        "outputId": "401acf88-a585-40cb-a8d6-a91b99b79bd6"
      },
      "execution_count": null,
      "outputs": [
        {
          "output_type": "stream",
          "name": "stdout",
          "text": [
            "[0 1 2 3 4 5 6 7 8]\n"
          ]
        }
      ]
    },
    {
      "cell_type": "code",
      "source": [
        "#Convert into 3 by 3 matrix for arr9\n",
        "arr9=arr8.reshape(3,3)\n",
        "print(arr9)"
      ],
      "metadata": {
        "colab": {
          "base_uri": "https://localhost:8080/"
        },
        "id": "5hMSHR2bWQAI",
        "outputId": "1cd4d318-d986-460c-d56f-9f32aab83351"
      },
      "execution_count": null,
      "outputs": [
        {
          "output_type": "stream",
          "name": "stdout",
          "text": [
            "[[0 1 2]\n",
            " [3 4 5]\n",
            " [6 7 8]]\n"
          ]
        }
      ]
    },
    {
      "cell_type": "code",
      "source": [
        "#Store 13 to 19 values into array\n",
        "arr10=np.arange(13,19) #list argument is for start value and 2nd for the end value\n",
        "print(arr10)"
      ],
      "metadata": {
        "colab": {
          "base_uri": "https://localhost:8080/"
        },
        "id": "zAqP9DfeW73-",
        "outputId": "2e893086-2fcf-4622-e666-9b9f3c455687"
      },
      "execution_count": null,
      "outputs": [
        {
          "output_type": "stream",
          "name": "stdout",
          "text": [
            "[13 14 15 16 17 18]\n"
          ]
        }
      ]
    },
    {
      "cell_type": "code",
      "source": [
        "#Store 13 to 19 values into array\n",
        "arr10=np.arange(13,19,3) #list argument is for start value and 2nd for the end value and third for the skip value\n",
        "print(arr10)"
      ],
      "metadata": {
        "colab": {
          "base_uri": "https://localhost:8080/"
        },
        "id": "BU1LQm3EXajQ",
        "outputId": "fe8e3572-8ed7-468f-af43-61b445fdbcab"
      },
      "execution_count": null,
      "outputs": [
        {
          "output_type": "stream",
          "name": "stdout",
          "text": [
            "[13 16]\n"
          ]
        }
      ]
    },
    {
      "cell_type": "code",
      "source": [
        "print(arr10[:]) #slicing for array10"
      ],
      "metadata": {
        "colab": {
          "base_uri": "https://localhost:8080/"
        },
        "id": "yBGrYUKoX2Y-",
        "outputId": "0e567355-4195-4e90-a09e-fd441346d2d4"
      },
      "execution_count": null,
      "outputs": [
        {
          "output_type": "stream",
          "name": "stdout",
          "text": [
            "[13 16]\n"
          ]
        }
      ]
    },
    {
      "cell_type": "code",
      "source": [
        "arr12=np.arange(9).reshape(3,3)\n",
        "print(arr12)"
      ],
      "metadata": {
        "colab": {
          "base_uri": "https://localhost:8080/"
        },
        "id": "Qy_wDazrYLgI",
        "outputId": "5384c018-f6e9-4936-e8eb-b1bcab2080d7"
      },
      "execution_count": null,
      "outputs": [
        {
          "output_type": "stream",
          "name": "stdout",
          "text": [
            "[[0 1 2]\n",
            " [3 4 5]\n",
            " [6 7 8]]\n"
          ]
        }
      ]
    },
    {
      "cell_type": "code",
      "source": [
        "arr13=np.arange(9).reshape(3,3)\n",
        "print(arr13)\n"
      ],
      "metadata": {
        "colab": {
          "base_uri": "https://localhost:8080/"
        },
        "id": "rH8l73mXYsZ1",
        "outputId": "d2fa849e-344b-495e-ceb0-bcd4f357faca"
      },
      "execution_count": null,
      "outputs": [
        {
          "output_type": "stream",
          "name": "stdout",
          "text": [
            "[[0 1 2]\n",
            " [3 4 5]\n",
            " [6 7 8]]\n"
          ]
        }
      ]
    },
    {
      "cell_type": "code",
      "source": [
        "#Convert 2 matrix into vertically\n",
        "arr14=np.vstack((arr12,arr13))\n",
        "arr14"
      ],
      "metadata": {
        "colab": {
          "base_uri": "https://localhost:8080/"
        },
        "id": "Gqh3dx93YxHW",
        "outputId": "35d51a98-8aed-4c47-cc0a-f9e02400c193"
      },
      "execution_count": null,
      "outputs": [
        {
          "output_type": "execute_result",
          "data": {
            "text/plain": [
              "array([[0, 1, 2],\n",
              "       [3, 4, 5],\n",
              "       [6, 7, 8],\n",
              "       [0, 1, 2],\n",
              "       [3, 4, 5],\n",
              "       [6, 7, 8]])"
            ]
          },
          "metadata": {},
          "execution_count": 41
        }
      ]
    },
    {
      "cell_type": "code",
      "source": [
        "#Convert 2 matrix into horizontally\n",
        "arr15=np.hstack((arr12,arr13))\n",
        "arr15"
      ],
      "metadata": {
        "colab": {
          "base_uri": "https://localhost:8080/"
        },
        "id": "eELmcJPrY_MM",
        "outputId": "10c2b877-2143-4857-ff30-47d1a173318b"
      },
      "execution_count": null,
      "outputs": [
        {
          "output_type": "execute_result",
          "data": {
            "text/plain": [
              "array([[0, 1, 2, 0, 1, 2],\n",
              "       [3, 4, 5, 3, 4, 5],\n",
              "       [6, 7, 8, 6, 7, 8]])"
            ]
          },
          "metadata": {},
          "execution_count": 43
        }
      ]
    },
    {
      "cell_type": "code",
      "source": [
        "#split the matrix into 2 row 5 column for horizontally\n",
        "arr16=np.hsplit(arr12,(2,5))\n",
        "arr16"
      ],
      "metadata": {
        "colab": {
          "base_uri": "https://localhost:8080/"
        },
        "id": "xejoSwY4ZFh7",
        "outputId": "d67e73d0-dc64-4d26-cae5-79dbb3c5f081"
      },
      "execution_count": null,
      "outputs": [
        {
          "output_type": "execute_result",
          "data": {
            "text/plain": [
              "[array([[0, 1],\n",
              "        [3, 4],\n",
              "        [6, 7]]),\n",
              " array([[2],\n",
              "        [5],\n",
              "        [8]]),\n",
              " array([], shape=(3, 0), dtype=int64)]"
            ]
          },
          "metadata": {},
          "execution_count": 45
        }
      ]
    },
    {
      "cell_type": "code",
      "source": [
        "#split the matrix into 2 row 5 column for vertically\n",
        "arr17=np.vsplit(arr12,(2,5))\n",
        "arr17"
      ],
      "metadata": {
        "colab": {
          "base_uri": "https://localhost:8080/"
        },
        "id": "VlfBG3wgZitc",
        "outputId": "8d664ef2-669b-4353-def5-8d5c3771d933"
      },
      "execution_count": null,
      "outputs": [
        {
          "output_type": "execute_result",
          "data": {
            "text/plain": [
              "[array([[0, 1, 2],\n",
              "        [3, 4, 5]]),\n",
              " array([[6, 7, 8]]),\n",
              " array([], shape=(0, 3), dtype=int64)]"
            ]
          },
          "metadata": {},
          "execution_count": 46
        }
      ]
    },
    {
      "cell_type": "code",
      "source": [
        "print(arr12)\n",
        "print(\"after spliting! data\")\n",
        "arr18=np.vsplit(arr12,(2,6))\n",
        "arr18"
      ],
      "metadata": {
        "colab": {
          "base_uri": "https://localhost:8080/"
        },
        "id": "SOXImeOHZ3gi",
        "outputId": "2965ae2a-7c4d-4957-d7c5-5276a731b633"
      },
      "execution_count": null,
      "outputs": [
        {
          "output_type": "stream",
          "name": "stdout",
          "text": [
            "[[0 1 2]\n",
            " [3 4 5]\n",
            " [6 7 8]]\n",
            "after spliting! data\n"
          ]
        },
        {
          "output_type": "execute_result",
          "data": {
            "text/plain": [
              "[array([[0, 1, 2],\n",
              "        [3, 4, 5]]),\n",
              " array([[6, 7, 8]]),\n",
              " array([], shape=(0, 3), dtype=int64)]"
            ]
          },
          "metadata": {},
          "execution_count": 49
        }
      ]
    },
    {
      "cell_type": "code",
      "source": [
        "arr19=np.array([1,2,3,4,5,6]).reshape(2,3)\n",
        "print(arr19)\n",
        "arr20=np.transpose(arr19) #Convert row value into column value\n",
        "print(arr20)"
      ],
      "metadata": {
        "colab": {
          "base_uri": "https://localhost:8080/"
        },
        "id": "4bkwksUuaFBq",
        "outputId": "9fab1d8c-fc95-47f5-a39b-14da923d337e"
      },
      "execution_count": null,
      "outputs": [
        {
          "output_type": "stream",
          "name": "stdout",
          "text": [
            "[[1 2 3]\n",
            " [4 5 6]]\n",
            "[[1 4]\n",
            " [2 5]\n",
            " [3 6]]\n"
          ]
        }
      ]
    },
    {
      "cell_type": "code",
      "source": [
        "arr21=np.array([10,20,30,40,50])\n",
        "print(arr21)\n",
        "arr22=np.array([60,70,80,90,100])\n",
        "print(arr22)\n"
      ],
      "metadata": {
        "colab": {
          "base_uri": "https://localhost:8080/"
        },
        "id": "OTB-n-NNaUtS",
        "outputId": "2031628f-9e30-453a-9c57-f8b5051778ee"
      },
      "execution_count": null,
      "outputs": [
        {
          "output_type": "stream",
          "name": "stdout",
          "text": [
            "[10 20 30 40 50]\n",
            "[ 60  70  80  90 100]\n"
          ]
        }
      ]
    },
    {
      "cell_type": "code",
      "source": [
        "arr_sum= np.add(arr21,arr22) #addition\n",
        "print(arr_sum)"
      ],
      "metadata": {
        "colab": {
          "base_uri": "https://localhost:8080/"
        },
        "id": "5kVxIXGCarMY",
        "outputId": "15b27c07-d1d3-44a4-83f2-7595cf2fd55a"
      },
      "execution_count": null,
      "outputs": [
        {
          "output_type": "stream",
          "name": "stdout",
          "text": [
            "[ 70  90 110 130 150]\n"
          ]
        }
      ]
    },
    {
      "cell_type": "code",
      "source": [
        "arr_sub= np.subtract(arr21,arr22) #subtract\n",
        "print(arr_sub)"
      ],
      "metadata": {
        "colab": {
          "base_uri": "https://localhost:8080/"
        },
        "id": "la2H70mQcUWU",
        "outputId": "2da2f821-f495-4631-b311-60bec51cbde1"
      },
      "execution_count": null,
      "outputs": [
        {
          "output_type": "stream",
          "name": "stdout",
          "text": [
            "[-50 -50 -50 -50 -50]\n"
          ]
        }
      ]
    },
    {
      "cell_type": "code",
      "source": [],
      "metadata": {
        "id": "sBmdx47SchXr"
      },
      "execution_count": null,
      "outputs": []
    }
  ]
}