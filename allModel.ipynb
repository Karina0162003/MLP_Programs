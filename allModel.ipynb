{
  "nbformat": 4,
  "nbformat_minor": 0,
  "metadata": {
    "colab": {
      "provenance": [],
      "authorship_tag": "ABX9TyPT0688/KDU0pfP3YqaGas0",
      "include_colab_link": true
    },
    "kernelspec": {
      "name": "python3",
      "display_name": "Python 3"
    },
    "language_info": {
      "name": "python"
    }
  },
  "cells": [
    {
      "cell_type": "markdown",
      "metadata": {
        "id": "view-in-github",
        "colab_type": "text"
      },
      "source": [
        "<a href=\"https://colab.research.google.com/github/Karina0162003/MLP_Programs/blob/main/allModel.ipynb\" target=\"_parent\"><img src=\"https://colab.research.google.com/assets/colab-badge.svg\" alt=\"Open In Colab\"/></a>"
      ]
    },
    {
      "cell_type": "code",
      "execution_count": 27,
      "metadata": {
        "id": "uakNlID6fq8a"
      },
      "outputs": [],
      "source": [
        "import pandas as pd\n",
        "import matplotlib.pyplot as plt"
      ]
    },
    {
      "cell_type": "code",
      "source": [
        "df=pd.read_csv(\"/content/fracture.csv\")\n",
        "df.head(4)"
      ],
      "metadata": {
        "colab": {
          "base_uri": "https://localhost:8080/",
          "height": 175
        },
        "id": "8x5DKA-3nDvZ",
        "outputId": "24497320-329f-45d5-e343-32bcd505c2c8"
      },
      "execution_count": 8,
      "outputs": [
        {
          "output_type": "execute_result",
          "data": {
            "text/plain": [
              "      id        age sex     fracture  weight_kg  height_cm      medication  \\\n",
              "0    469  57.052768   F  no fracture       64.0      155.5  Anticonvulsant   \n",
              "1   8724  75.741225   F  no fracture       78.0      162.0   No medication   \n",
              "2   6736  70.778900   M  no fracture       73.0      170.5   No medication   \n",
              "3  24180  78.247175   F  no fracture       60.0      148.0   No medication   \n",
              "\n",
              "   waiting_time     bmd  \n",
              "0            18  0.8793  \n",
              "1            56  0.7946  \n",
              "2            10  0.9067  \n",
              "3            14  0.7112  "
            ],
            "text/html": [
              "\n",
              "  <div id=\"df-68293572-8382-482f-9646-e23a0af7d045\" class=\"colab-df-container\">\n",
              "    <div>\n",
              "<style scoped>\n",
              "    .dataframe tbody tr th:only-of-type {\n",
              "        vertical-align: middle;\n",
              "    }\n",
              "\n",
              "    .dataframe tbody tr th {\n",
              "        vertical-align: top;\n",
              "    }\n",
              "\n",
              "    .dataframe thead th {\n",
              "        text-align: right;\n",
              "    }\n",
              "</style>\n",
              "<table border=\"1\" class=\"dataframe\">\n",
              "  <thead>\n",
              "    <tr style=\"text-align: right;\">\n",
              "      <th></th>\n",
              "      <th>id</th>\n",
              "      <th>age</th>\n",
              "      <th>sex</th>\n",
              "      <th>fracture</th>\n",
              "      <th>weight_kg</th>\n",
              "      <th>height_cm</th>\n",
              "      <th>medication</th>\n",
              "      <th>waiting_time</th>\n",
              "      <th>bmd</th>\n",
              "    </tr>\n",
              "  </thead>\n",
              "  <tbody>\n",
              "    <tr>\n",
              "      <th>0</th>\n",
              "      <td>469</td>\n",
              "      <td>57.052768</td>\n",
              "      <td>F</td>\n",
              "      <td>no fracture</td>\n",
              "      <td>64.0</td>\n",
              "      <td>155.5</td>\n",
              "      <td>Anticonvulsant</td>\n",
              "      <td>18</td>\n",
              "      <td>0.8793</td>\n",
              "    </tr>\n",
              "    <tr>\n",
              "      <th>1</th>\n",
              "      <td>8724</td>\n",
              "      <td>75.741225</td>\n",
              "      <td>F</td>\n",
              "      <td>no fracture</td>\n",
              "      <td>78.0</td>\n",
              "      <td>162.0</td>\n",
              "      <td>No medication</td>\n",
              "      <td>56</td>\n",
              "      <td>0.7946</td>\n",
              "    </tr>\n",
              "    <tr>\n",
              "      <th>2</th>\n",
              "      <td>6736</td>\n",
              "      <td>70.778900</td>\n",
              "      <td>M</td>\n",
              "      <td>no fracture</td>\n",
              "      <td>73.0</td>\n",
              "      <td>170.5</td>\n",
              "      <td>No medication</td>\n",
              "      <td>10</td>\n",
              "      <td>0.9067</td>\n",
              "    </tr>\n",
              "    <tr>\n",
              "      <th>3</th>\n",
              "      <td>24180</td>\n",
              "      <td>78.247175</td>\n",
              "      <td>F</td>\n",
              "      <td>no fracture</td>\n",
              "      <td>60.0</td>\n",
              "      <td>148.0</td>\n",
              "      <td>No medication</td>\n",
              "      <td>14</td>\n",
              "      <td>0.7112</td>\n",
              "    </tr>\n",
              "  </tbody>\n",
              "</table>\n",
              "</div>\n",
              "    <div class=\"colab-df-buttons\">\n",
              "\n",
              "  <div class=\"colab-df-container\">\n",
              "    <button class=\"colab-df-convert\" onclick=\"convertToInteractive('df-68293572-8382-482f-9646-e23a0af7d045')\"\n",
              "            title=\"Convert this dataframe to an interactive table.\"\n",
              "            style=\"display:none;\">\n",
              "\n",
              "  <svg xmlns=\"http://www.w3.org/2000/svg\" height=\"24px\" viewBox=\"0 -960 960 960\">\n",
              "    <path d=\"M120-120v-720h720v720H120Zm60-500h600v-160H180v160Zm220 220h160v-160H400v160Zm0 220h160v-160H400v160ZM180-400h160v-160H180v160Zm440 0h160v-160H620v160ZM180-180h160v-160H180v160Zm440 0h160v-160H620v160Z\"/>\n",
              "  </svg>\n",
              "    </button>\n",
              "\n",
              "  <style>\n",
              "    .colab-df-container {\n",
              "      display:flex;\n",
              "      gap: 12px;\n",
              "    }\n",
              "\n",
              "    .colab-df-convert {\n",
              "      background-color: #E8F0FE;\n",
              "      border: none;\n",
              "      border-radius: 50%;\n",
              "      cursor: pointer;\n",
              "      display: none;\n",
              "      fill: #1967D2;\n",
              "      height: 32px;\n",
              "      padding: 0 0 0 0;\n",
              "      width: 32px;\n",
              "    }\n",
              "\n",
              "    .colab-df-convert:hover {\n",
              "      background-color: #E2EBFA;\n",
              "      box-shadow: 0px 1px 2px rgba(60, 64, 67, 0.3), 0px 1px 3px 1px rgba(60, 64, 67, 0.15);\n",
              "      fill: #174EA6;\n",
              "    }\n",
              "\n",
              "    .colab-df-buttons div {\n",
              "      margin-bottom: 4px;\n",
              "    }\n",
              "\n",
              "    [theme=dark] .colab-df-convert {\n",
              "      background-color: #3B4455;\n",
              "      fill: #D2E3FC;\n",
              "    }\n",
              "\n",
              "    [theme=dark] .colab-df-convert:hover {\n",
              "      background-color: #434B5C;\n",
              "      box-shadow: 0px 1px 3px 1px rgba(0, 0, 0, 0.15);\n",
              "      filter: drop-shadow(0px 1px 2px rgba(0, 0, 0, 0.3));\n",
              "      fill: #FFFFFF;\n",
              "    }\n",
              "  </style>\n",
              "\n",
              "    <script>\n",
              "      const buttonEl =\n",
              "        document.querySelector('#df-68293572-8382-482f-9646-e23a0af7d045 button.colab-df-convert');\n",
              "      buttonEl.style.display =\n",
              "        google.colab.kernel.accessAllowed ? 'block' : 'none';\n",
              "\n",
              "      async function convertToInteractive(key) {\n",
              "        const element = document.querySelector('#df-68293572-8382-482f-9646-e23a0af7d045');\n",
              "        const dataTable =\n",
              "          await google.colab.kernel.invokeFunction('convertToInteractive',\n",
              "                                                    [key], {});\n",
              "        if (!dataTable) return;\n",
              "\n",
              "        const docLinkHtml = 'Like what you see? Visit the ' +\n",
              "          '<a target=\"_blank\" href=https://colab.research.google.com/notebooks/data_table.ipynb>data table notebook</a>'\n",
              "          + ' to learn more about interactive tables.';\n",
              "        element.innerHTML = '';\n",
              "        dataTable['output_type'] = 'display_data';\n",
              "        await google.colab.output.renderOutput(dataTable, element);\n",
              "        const docLink = document.createElement('div');\n",
              "        docLink.innerHTML = docLinkHtml;\n",
              "        element.appendChild(docLink);\n",
              "      }\n",
              "    </script>\n",
              "  </div>\n",
              "\n",
              "\n",
              "<div id=\"df-84061ac3-971d-4151-8711-5c855fce3b9b\">\n",
              "  <button class=\"colab-df-quickchart\" onclick=\"quickchart('df-84061ac3-971d-4151-8711-5c855fce3b9b')\"\n",
              "            title=\"Suggest charts\"\n",
              "            style=\"display:none;\">\n",
              "\n",
              "<svg xmlns=\"http://www.w3.org/2000/svg\" height=\"24px\"viewBox=\"0 0 24 24\"\n",
              "     width=\"24px\">\n",
              "    <g>\n",
              "        <path d=\"M19 3H5c-1.1 0-2 .9-2 2v14c0 1.1.9 2 2 2h14c1.1 0 2-.9 2-2V5c0-1.1-.9-2-2-2zM9 17H7v-7h2v7zm4 0h-2V7h2v10zm4 0h-2v-4h2v4z\"/>\n",
              "    </g>\n",
              "</svg>\n",
              "  </button>\n",
              "\n",
              "<style>\n",
              "  .colab-df-quickchart {\n",
              "      --bg-color: #E8F0FE;\n",
              "      --fill-color: #1967D2;\n",
              "      --hover-bg-color: #E2EBFA;\n",
              "      --hover-fill-color: #174EA6;\n",
              "      --disabled-fill-color: #AAA;\n",
              "      --disabled-bg-color: #DDD;\n",
              "  }\n",
              "\n",
              "  [theme=dark] .colab-df-quickchart {\n",
              "      --bg-color: #3B4455;\n",
              "      --fill-color: #D2E3FC;\n",
              "      --hover-bg-color: #434B5C;\n",
              "      --hover-fill-color: #FFFFFF;\n",
              "      --disabled-bg-color: #3B4455;\n",
              "      --disabled-fill-color: #666;\n",
              "  }\n",
              "\n",
              "  .colab-df-quickchart {\n",
              "    background-color: var(--bg-color);\n",
              "    border: none;\n",
              "    border-radius: 50%;\n",
              "    cursor: pointer;\n",
              "    display: none;\n",
              "    fill: var(--fill-color);\n",
              "    height: 32px;\n",
              "    padding: 0;\n",
              "    width: 32px;\n",
              "  }\n",
              "\n",
              "  .colab-df-quickchart:hover {\n",
              "    background-color: var(--hover-bg-color);\n",
              "    box-shadow: 0 1px 2px rgba(60, 64, 67, 0.3), 0 1px 3px 1px rgba(60, 64, 67, 0.15);\n",
              "    fill: var(--button-hover-fill-color);\n",
              "  }\n",
              "\n",
              "  .colab-df-quickchart-complete:disabled,\n",
              "  .colab-df-quickchart-complete:disabled:hover {\n",
              "    background-color: var(--disabled-bg-color);\n",
              "    fill: var(--disabled-fill-color);\n",
              "    box-shadow: none;\n",
              "  }\n",
              "\n",
              "  .colab-df-spinner {\n",
              "    border: 2px solid var(--fill-color);\n",
              "    border-color: transparent;\n",
              "    border-bottom-color: var(--fill-color);\n",
              "    animation:\n",
              "      spin 1s steps(1) infinite;\n",
              "  }\n",
              "\n",
              "  @keyframes spin {\n",
              "    0% {\n",
              "      border-color: transparent;\n",
              "      border-bottom-color: var(--fill-color);\n",
              "      border-left-color: var(--fill-color);\n",
              "    }\n",
              "    20% {\n",
              "      border-color: transparent;\n",
              "      border-left-color: var(--fill-color);\n",
              "      border-top-color: var(--fill-color);\n",
              "    }\n",
              "    30% {\n",
              "      border-color: transparent;\n",
              "      border-left-color: var(--fill-color);\n",
              "      border-top-color: var(--fill-color);\n",
              "      border-right-color: var(--fill-color);\n",
              "    }\n",
              "    40% {\n",
              "      border-color: transparent;\n",
              "      border-right-color: var(--fill-color);\n",
              "      border-top-color: var(--fill-color);\n",
              "    }\n",
              "    60% {\n",
              "      border-color: transparent;\n",
              "      border-right-color: var(--fill-color);\n",
              "    }\n",
              "    80% {\n",
              "      border-color: transparent;\n",
              "      border-right-color: var(--fill-color);\n",
              "      border-bottom-color: var(--fill-color);\n",
              "    }\n",
              "    90% {\n",
              "      border-color: transparent;\n",
              "      border-bottom-color: var(--fill-color);\n",
              "    }\n",
              "  }\n",
              "</style>\n",
              "\n",
              "  <script>\n",
              "    async function quickchart(key) {\n",
              "      const quickchartButtonEl =\n",
              "        document.querySelector('#' + key + ' button');\n",
              "      quickchartButtonEl.disabled = true;  // To prevent multiple clicks.\n",
              "      quickchartButtonEl.classList.add('colab-df-spinner');\n",
              "      try {\n",
              "        const charts = await google.colab.kernel.invokeFunction(\n",
              "            'suggestCharts', [key], {});\n",
              "      } catch (error) {\n",
              "        console.error('Error during call to suggestCharts:', error);\n",
              "      }\n",
              "      quickchartButtonEl.classList.remove('colab-df-spinner');\n",
              "      quickchartButtonEl.classList.add('colab-df-quickchart-complete');\n",
              "    }\n",
              "    (() => {\n",
              "      let quickchartButtonEl =\n",
              "        document.querySelector('#df-84061ac3-971d-4151-8711-5c855fce3b9b button');\n",
              "      quickchartButtonEl.style.display =\n",
              "        google.colab.kernel.accessAllowed ? 'block' : 'none';\n",
              "    })();\n",
              "  </script>\n",
              "</div>\n",
              "\n",
              "    </div>\n",
              "  </div>\n"
            ],
            "application/vnd.google.colaboratory.intrinsic+json": {
              "type": "dataframe",
              "variable_name": "df",
              "summary": "{\n  \"name\": \"df\",\n  \"rows\": 169,\n  \"fields\": [\n    {\n      \"column\": \"id\",\n      \"properties\": {\n        \"dtype\": \"number\",\n        \"std\": 8744,\n        \"min\": 35,\n        \"max\": 24208,\n        \"num_unique_values\": 169,\n        \"samples\": [\n          23995,\n          7776,\n          165\n        ],\n        \"semantic_type\": \"\",\n        \"description\": \"\"\n      }\n    },\n    {\n      \"column\": \"age\",\n      \"properties\": {\n        \"dtype\": \"number\",\n        \"std\": 12.356935671192089,\n        \"min\": 35.81405763,\n        \"max\": 88.7537953,\n        \"num_unique_values\": 169,\n        \"samples\": [\n          69.97770123,\n          54.91253353,\n          83.09364681\n        ],\n        \"semantic_type\": \"\",\n        \"description\": \"\"\n      }\n    },\n    {\n      \"column\": \"sex\",\n      \"properties\": {\n        \"dtype\": \"category\",\n        \"num_unique_values\": 2,\n        \"samples\": [\n          \"M\",\n          \"F\"\n        ],\n        \"semantic_type\": \"\",\n        \"description\": \"\"\n      }\n    },\n    {\n      \"column\": \"fracture\",\n      \"properties\": {\n        \"dtype\": \"category\",\n        \"num_unique_values\": 2,\n        \"samples\": [\n          \"fracture\",\n          \"no fracture\"\n        ],\n        \"semantic_type\": \"\",\n        \"description\": \"\"\n      }\n    },\n    {\n      \"column\": \"weight_kg\",\n      \"properties\": {\n        \"dtype\": \"number\",\n        \"std\": 11.537171020627188,\n        \"min\": 36.0,\n        \"max\": 96.0,\n        \"num_unique_values\": 52,\n        \"samples\": [\n          67.5,\n          57.0\n        ],\n        \"semantic_type\": \"\",\n        \"description\": \"\"\n      }\n    },\n    {\n      \"column\": \"height_cm\",\n      \"properties\": {\n        \"dtype\": \"number\",\n        \"std\": 7.928271884151901,\n        \"min\": 142.0,\n        \"max\": 177.0,\n        \"num_unique_values\": 52,\n        \"samples\": [\n          152.0,\n          168.5\n        ],\n        \"semantic_type\": \"\",\n        \"description\": \"\"\n      }\n    },\n    {\n      \"column\": \"medication\",\n      \"properties\": {\n        \"dtype\": \"category\",\n        \"num_unique_values\": 3,\n        \"samples\": [\n          \"Anticonvulsant\",\n          \"No medication\"\n        ],\n        \"semantic_type\": \"\",\n        \"description\": \"\"\n      }\n    },\n    {\n      \"column\": \"waiting_time\",\n      \"properties\": {\n        \"dtype\": \"number\",\n        \"std\": 15,\n        \"min\": 5,\n        \"max\": 96,\n        \"num_unique_values\": 47,\n        \"samples\": [\n          19,\n          32\n        ],\n        \"semantic_type\": \"\",\n        \"description\": \"\"\n      }\n    },\n    {\n      \"column\": \"bmd\",\n      \"properties\": {\n        \"dtype\": \"number\",\n        \"std\": 0.16652888156774753,\n        \"min\": 0.40759999,\n        \"max\": 1.3624001,\n        \"num_unique_values\": 166,\n        \"samples\": [\n          1.0366,\n          0.62639999\n        ],\n        \"semantic_type\": \"\",\n        \"description\": \"\"\n      }\n    }\n  ]\n}"
            }
          },
          "metadata": {},
          "execution_count": 8
        }
      ]
    },
    {
      "cell_type": "code",
      "source": [
        "df[\"bmi\"] = df['weight_kg']/(df['height_cm']/100) **2"
      ],
      "metadata": {
        "id": "u5EIN0Rsn13I"
      },
      "execution_count": 9,
      "outputs": []
    },
    {
      "cell_type": "code",
      "source": [
        "df.tail(3)"
      ],
      "metadata": {
        "colab": {
          "base_uri": "https://localhost:8080/",
          "height": 143
        },
        "id": "fcJlLMbMoyWM",
        "outputId": "66403382-9d9b-4855-bc56-a650fed4d9e1"
      },
      "execution_count": 10,
      "outputs": [
        {
          "output_type": "execute_result",
          "data": {
            "text/plain": [
              "       id        age sex  fracture  weight_kg  height_cm     medication  \\\n",
              "166  6969  46.359721   M  fracture       67.0      169.0  No medication   \n",
              "167  5505  54.788368   M  fracture       70.0      166.0  No medication   \n",
              "168    71  69.994822   F  fracture       68.5      165.0  No medication   \n",
              "\n",
              "     waiting_time     bmd        bmi  \n",
              "166            10  0.8037  23.458562  \n",
              "167            14  0.8072  25.402816  \n",
              "168            25  0.8664  25.160698  "
            ],
            "text/html": [
              "\n",
              "  <div id=\"df-6c2c0421-bf5c-4af1-bb9c-26c6f603cd8e\" class=\"colab-df-container\">\n",
              "    <div>\n",
              "<style scoped>\n",
              "    .dataframe tbody tr th:only-of-type {\n",
              "        vertical-align: middle;\n",
              "    }\n",
              "\n",
              "    .dataframe tbody tr th {\n",
              "        vertical-align: top;\n",
              "    }\n",
              "\n",
              "    .dataframe thead th {\n",
              "        text-align: right;\n",
              "    }\n",
              "</style>\n",
              "<table border=\"1\" class=\"dataframe\">\n",
              "  <thead>\n",
              "    <tr style=\"text-align: right;\">\n",
              "      <th></th>\n",
              "      <th>id</th>\n",
              "      <th>age</th>\n",
              "      <th>sex</th>\n",
              "      <th>fracture</th>\n",
              "      <th>weight_kg</th>\n",
              "      <th>height_cm</th>\n",
              "      <th>medication</th>\n",
              "      <th>waiting_time</th>\n",
              "      <th>bmd</th>\n",
              "      <th>bmi</th>\n",
              "    </tr>\n",
              "  </thead>\n",
              "  <tbody>\n",
              "    <tr>\n",
              "      <th>166</th>\n",
              "      <td>6969</td>\n",
              "      <td>46.359721</td>\n",
              "      <td>M</td>\n",
              "      <td>fracture</td>\n",
              "      <td>67.0</td>\n",
              "      <td>169.0</td>\n",
              "      <td>No medication</td>\n",
              "      <td>10</td>\n",
              "      <td>0.8037</td>\n",
              "      <td>23.458562</td>\n",
              "    </tr>\n",
              "    <tr>\n",
              "      <th>167</th>\n",
              "      <td>5505</td>\n",
              "      <td>54.788368</td>\n",
              "      <td>M</td>\n",
              "      <td>fracture</td>\n",
              "      <td>70.0</td>\n",
              "      <td>166.0</td>\n",
              "      <td>No medication</td>\n",
              "      <td>14</td>\n",
              "      <td>0.8072</td>\n",
              "      <td>25.402816</td>\n",
              "    </tr>\n",
              "    <tr>\n",
              "      <th>168</th>\n",
              "      <td>71</td>\n",
              "      <td>69.994822</td>\n",
              "      <td>F</td>\n",
              "      <td>fracture</td>\n",
              "      <td>68.5</td>\n",
              "      <td>165.0</td>\n",
              "      <td>No medication</td>\n",
              "      <td>25</td>\n",
              "      <td>0.8664</td>\n",
              "      <td>25.160698</td>\n",
              "    </tr>\n",
              "  </tbody>\n",
              "</table>\n",
              "</div>\n",
              "    <div class=\"colab-df-buttons\">\n",
              "\n",
              "  <div class=\"colab-df-container\">\n",
              "    <button class=\"colab-df-convert\" onclick=\"convertToInteractive('df-6c2c0421-bf5c-4af1-bb9c-26c6f603cd8e')\"\n",
              "            title=\"Convert this dataframe to an interactive table.\"\n",
              "            style=\"display:none;\">\n",
              "\n",
              "  <svg xmlns=\"http://www.w3.org/2000/svg\" height=\"24px\" viewBox=\"0 -960 960 960\">\n",
              "    <path d=\"M120-120v-720h720v720H120Zm60-500h600v-160H180v160Zm220 220h160v-160H400v160Zm0 220h160v-160H400v160ZM180-400h160v-160H180v160Zm440 0h160v-160H620v160ZM180-180h160v-160H180v160Zm440 0h160v-160H620v160Z\"/>\n",
              "  </svg>\n",
              "    </button>\n",
              "\n",
              "  <style>\n",
              "    .colab-df-container {\n",
              "      display:flex;\n",
              "      gap: 12px;\n",
              "    }\n",
              "\n",
              "    .colab-df-convert {\n",
              "      background-color: #E8F0FE;\n",
              "      border: none;\n",
              "      border-radius: 50%;\n",
              "      cursor: pointer;\n",
              "      display: none;\n",
              "      fill: #1967D2;\n",
              "      height: 32px;\n",
              "      padding: 0 0 0 0;\n",
              "      width: 32px;\n",
              "    }\n",
              "\n",
              "    .colab-df-convert:hover {\n",
              "      background-color: #E2EBFA;\n",
              "      box-shadow: 0px 1px 2px rgba(60, 64, 67, 0.3), 0px 1px 3px 1px rgba(60, 64, 67, 0.15);\n",
              "      fill: #174EA6;\n",
              "    }\n",
              "\n",
              "    .colab-df-buttons div {\n",
              "      margin-bottom: 4px;\n",
              "    }\n",
              "\n",
              "    [theme=dark] .colab-df-convert {\n",
              "      background-color: #3B4455;\n",
              "      fill: #D2E3FC;\n",
              "    }\n",
              "\n",
              "    [theme=dark] .colab-df-convert:hover {\n",
              "      background-color: #434B5C;\n",
              "      box-shadow: 0px 1px 3px 1px rgba(0, 0, 0, 0.15);\n",
              "      filter: drop-shadow(0px 1px 2px rgba(0, 0, 0, 0.3));\n",
              "      fill: #FFFFFF;\n",
              "    }\n",
              "  </style>\n",
              "\n",
              "    <script>\n",
              "      const buttonEl =\n",
              "        document.querySelector('#df-6c2c0421-bf5c-4af1-bb9c-26c6f603cd8e button.colab-df-convert');\n",
              "      buttonEl.style.display =\n",
              "        google.colab.kernel.accessAllowed ? 'block' : 'none';\n",
              "\n",
              "      async function convertToInteractive(key) {\n",
              "        const element = document.querySelector('#df-6c2c0421-bf5c-4af1-bb9c-26c6f603cd8e');\n",
              "        const dataTable =\n",
              "          await google.colab.kernel.invokeFunction('convertToInteractive',\n",
              "                                                    [key], {});\n",
              "        if (!dataTable) return;\n",
              "\n",
              "        const docLinkHtml = 'Like what you see? Visit the ' +\n",
              "          '<a target=\"_blank\" href=https://colab.research.google.com/notebooks/data_table.ipynb>data table notebook</a>'\n",
              "          + ' to learn more about interactive tables.';\n",
              "        element.innerHTML = '';\n",
              "        dataTable['output_type'] = 'display_data';\n",
              "        await google.colab.output.renderOutput(dataTable, element);\n",
              "        const docLink = document.createElement('div');\n",
              "        docLink.innerHTML = docLinkHtml;\n",
              "        element.appendChild(docLink);\n",
              "      }\n",
              "    </script>\n",
              "  </div>\n",
              "\n",
              "\n",
              "<div id=\"df-44ca0766-df30-48fe-a308-91b0e109dd15\">\n",
              "  <button class=\"colab-df-quickchart\" onclick=\"quickchart('df-44ca0766-df30-48fe-a308-91b0e109dd15')\"\n",
              "            title=\"Suggest charts\"\n",
              "            style=\"display:none;\">\n",
              "\n",
              "<svg xmlns=\"http://www.w3.org/2000/svg\" height=\"24px\"viewBox=\"0 0 24 24\"\n",
              "     width=\"24px\">\n",
              "    <g>\n",
              "        <path d=\"M19 3H5c-1.1 0-2 .9-2 2v14c0 1.1.9 2 2 2h14c1.1 0 2-.9 2-2V5c0-1.1-.9-2-2-2zM9 17H7v-7h2v7zm4 0h-2V7h2v10zm4 0h-2v-4h2v4z\"/>\n",
              "    </g>\n",
              "</svg>\n",
              "  </button>\n",
              "\n",
              "<style>\n",
              "  .colab-df-quickchart {\n",
              "      --bg-color: #E8F0FE;\n",
              "      --fill-color: #1967D2;\n",
              "      --hover-bg-color: #E2EBFA;\n",
              "      --hover-fill-color: #174EA6;\n",
              "      --disabled-fill-color: #AAA;\n",
              "      --disabled-bg-color: #DDD;\n",
              "  }\n",
              "\n",
              "  [theme=dark] .colab-df-quickchart {\n",
              "      --bg-color: #3B4455;\n",
              "      --fill-color: #D2E3FC;\n",
              "      --hover-bg-color: #434B5C;\n",
              "      --hover-fill-color: #FFFFFF;\n",
              "      --disabled-bg-color: #3B4455;\n",
              "      --disabled-fill-color: #666;\n",
              "  }\n",
              "\n",
              "  .colab-df-quickchart {\n",
              "    background-color: var(--bg-color);\n",
              "    border: none;\n",
              "    border-radius: 50%;\n",
              "    cursor: pointer;\n",
              "    display: none;\n",
              "    fill: var(--fill-color);\n",
              "    height: 32px;\n",
              "    padding: 0;\n",
              "    width: 32px;\n",
              "  }\n",
              "\n",
              "  .colab-df-quickchart:hover {\n",
              "    background-color: var(--hover-bg-color);\n",
              "    box-shadow: 0 1px 2px rgba(60, 64, 67, 0.3), 0 1px 3px 1px rgba(60, 64, 67, 0.15);\n",
              "    fill: var(--button-hover-fill-color);\n",
              "  }\n",
              "\n",
              "  .colab-df-quickchart-complete:disabled,\n",
              "  .colab-df-quickchart-complete:disabled:hover {\n",
              "    background-color: var(--disabled-bg-color);\n",
              "    fill: var(--disabled-fill-color);\n",
              "    box-shadow: none;\n",
              "  }\n",
              "\n",
              "  .colab-df-spinner {\n",
              "    border: 2px solid var(--fill-color);\n",
              "    border-color: transparent;\n",
              "    border-bottom-color: var(--fill-color);\n",
              "    animation:\n",
              "      spin 1s steps(1) infinite;\n",
              "  }\n",
              "\n",
              "  @keyframes spin {\n",
              "    0% {\n",
              "      border-color: transparent;\n",
              "      border-bottom-color: var(--fill-color);\n",
              "      border-left-color: var(--fill-color);\n",
              "    }\n",
              "    20% {\n",
              "      border-color: transparent;\n",
              "      border-left-color: var(--fill-color);\n",
              "      border-top-color: var(--fill-color);\n",
              "    }\n",
              "    30% {\n",
              "      border-color: transparent;\n",
              "      border-left-color: var(--fill-color);\n",
              "      border-top-color: var(--fill-color);\n",
              "      border-right-color: var(--fill-color);\n",
              "    }\n",
              "    40% {\n",
              "      border-color: transparent;\n",
              "      border-right-color: var(--fill-color);\n",
              "      border-top-color: var(--fill-color);\n",
              "    }\n",
              "    60% {\n",
              "      border-color: transparent;\n",
              "      border-right-color: var(--fill-color);\n",
              "    }\n",
              "    80% {\n",
              "      border-color: transparent;\n",
              "      border-right-color: var(--fill-color);\n",
              "      border-bottom-color: var(--fill-color);\n",
              "    }\n",
              "    90% {\n",
              "      border-color: transparent;\n",
              "      border-bottom-color: var(--fill-color);\n",
              "    }\n",
              "  }\n",
              "</style>\n",
              "\n",
              "  <script>\n",
              "    async function quickchart(key) {\n",
              "      const quickchartButtonEl =\n",
              "        document.querySelector('#' + key + ' button');\n",
              "      quickchartButtonEl.disabled = true;  // To prevent multiple clicks.\n",
              "      quickchartButtonEl.classList.add('colab-df-spinner');\n",
              "      try {\n",
              "        const charts = await google.colab.kernel.invokeFunction(\n",
              "            'suggestCharts', [key], {});\n",
              "      } catch (error) {\n",
              "        console.error('Error during call to suggestCharts:', error);\n",
              "      }\n",
              "      quickchartButtonEl.classList.remove('colab-df-spinner');\n",
              "      quickchartButtonEl.classList.add('colab-df-quickchart-complete');\n",
              "    }\n",
              "    (() => {\n",
              "      let quickchartButtonEl =\n",
              "        document.querySelector('#df-44ca0766-df30-48fe-a308-91b0e109dd15 button');\n",
              "      quickchartButtonEl.style.display =\n",
              "        google.colab.kernel.accessAllowed ? 'block' : 'none';\n",
              "    })();\n",
              "  </script>\n",
              "</div>\n",
              "\n",
              "    </div>\n",
              "  </div>\n"
            ],
            "application/vnd.google.colaboratory.intrinsic+json": {
              "type": "dataframe",
              "summary": "{\n  \"name\": \"df\",\n  \"rows\": 3,\n  \"fields\": [\n    {\n      \"column\": \"id\",\n      \"properties\": {\n        \"dtype\": \"number\",\n        \"std\": 3634,\n        \"min\": 71,\n        \"max\": 6969,\n        \"num_unique_values\": 3,\n        \"samples\": [\n          6969,\n          5505,\n          71\n        ],\n        \"semantic_type\": \"\",\n        \"description\": \"\"\n      }\n    },\n    {\n      \"column\": \"age\",\n      \"properties\": {\n        \"dtype\": \"number\",\n        \"std\": 11.978427723686144,\n        \"min\": 46.35972067,\n        \"max\": 69.99482235,\n        \"num_unique_values\": 3,\n        \"samples\": [\n          46.35972067,\n          54.78836776,\n          69.99482235\n        ],\n        \"semantic_type\": \"\",\n        \"description\": \"\"\n      }\n    },\n    {\n      \"column\": \"sex\",\n      \"properties\": {\n        \"dtype\": \"string\",\n        \"num_unique_values\": 2,\n        \"samples\": [\n          \"F\",\n          \"M\"\n        ],\n        \"semantic_type\": \"\",\n        \"description\": \"\"\n      }\n    },\n    {\n      \"column\": \"fracture\",\n      \"properties\": {\n        \"dtype\": \"category\",\n        \"num_unique_values\": 1,\n        \"samples\": [\n          \"fracture\"\n        ],\n        \"semantic_type\": \"\",\n        \"description\": \"\"\n      }\n    },\n    {\n      \"column\": \"weight_kg\",\n      \"properties\": {\n        \"dtype\": \"number\",\n        \"std\": 1.5,\n        \"min\": 67.0,\n        \"max\": 70.0,\n        \"num_unique_values\": 3,\n        \"samples\": [\n          67.0\n        ],\n        \"semantic_type\": \"\",\n        \"description\": \"\"\n      }\n    },\n    {\n      \"column\": \"height_cm\",\n      \"properties\": {\n        \"dtype\": \"number\",\n        \"std\": 2.081665999466133,\n        \"min\": 165.0,\n        \"max\": 169.0,\n        \"num_unique_values\": 3,\n        \"samples\": [\n          169.0\n        ],\n        \"semantic_type\": \"\",\n        \"description\": \"\"\n      }\n    },\n    {\n      \"column\": \"medication\",\n      \"properties\": {\n        \"dtype\": \"category\",\n        \"num_unique_values\": 1,\n        \"samples\": [\n          \"No medication\"\n        ],\n        \"semantic_type\": \"\",\n        \"description\": \"\"\n      }\n    },\n    {\n      \"column\": \"waiting_time\",\n      \"properties\": {\n        \"dtype\": \"number\",\n        \"std\": 7,\n        \"min\": 10,\n        \"max\": 25,\n        \"num_unique_values\": 3,\n        \"samples\": [\n          10\n        ],\n        \"semantic_type\": \"\",\n        \"description\": \"\"\n      }\n    },\n    {\n      \"column\": \"bmd\",\n      \"properties\": {\n        \"dtype\": \"number\",\n        \"std\": 0.03523299319767052,\n        \"min\": 0.80369997,\n        \"max\": 0.8664,\n        \"num_unique_values\": 3,\n        \"samples\": [\n          0.80369997\n        ],\n        \"semantic_type\": \"\",\n        \"description\": \"\"\n      }\n    },\n    {\n      \"column\": \"bmi\",\n      \"properties\": {\n        \"dtype\": \"number\",\n        \"std\": 1.0595603653307473,\n        \"min\": 23.458562375266975,\n        \"max\": 25.402816083611555,\n        \"num_unique_values\": 3,\n        \"samples\": [\n          23.458562375266975\n        ],\n        \"semantic_type\": \"\",\n        \"description\": \"\"\n      }\n    }\n  ]\n}"
            }
          },
          "metadata": {},
          "execution_count": 10
        }
      ]
    },
    {
      "cell_type": "code",
      "source": [
        "x=df[['weight_kg','height_cm','waiting_time']].values\n",
        "x\n"
      ],
      "metadata": {
        "colab": {
          "base_uri": "https://localhost:8080/"
        },
        "id": "H0LnNXfWqCeq",
        "outputId": "dfdd6395-24ba-42f4-c6f8-f300b666afea"
      },
      "execution_count": 19,
      "outputs": [
        {
          "output_type": "execute_result",
          "data": {
            "text/plain": [
              "array([[ 64. , 155.5,  18. ],\n",
              "       [ 78. , 162. ,  56. ],\n",
              "       [ 73. , 170.5,  10. ],\n",
              "       [ 60. , 148. ,  14. ],\n",
              "       [ 55. , 161. ,  20. ],\n",
              "       [ 65. , 168. ,   7. ],\n",
              "       [ 77. , 159. ,  26. ],\n",
              "       [ 59. , 150. ,   9. ],\n",
              "       [ 64. , 167. ,   6. ],\n",
              "       [ 72. , 159.5,  10. ],\n",
              "       [ 62. , 169. ,  12. ],\n",
              "       [ 68. , 164. ,   5. ],\n",
              "       [ 76. , 155. ,  11. ],\n",
              "       [ 90. , 175. ,  28. ],\n",
              "       [ 70. , 162.5,  73. ],\n",
              "       [ 76. , 171. ,  13. ],\n",
              "       [ 67. , 160. ,   5. ],\n",
              "       [ 66. , 165. ,   8. ],\n",
              "       [ 72. , 154. ,  11. ],\n",
              "       [ 50. , 152. ,  21. ],\n",
              "       [ 59. , 154. ,  10. ],\n",
              "       [ 73. , 171. ,  37. ],\n",
              "       [ 74. , 145. ,  14. ],\n",
              "       [ 55. , 153.5,  22. ],\n",
              "       [ 75. , 172. ,  64. ],\n",
              "       [ 67.5, 154. ,  10. ],\n",
              "       [ 68. , 167. ,   5. ],\n",
              "       [ 69. , 166. ,   9. ],\n",
              "       [ 55. , 162. ,  15. ],\n",
              "       [ 69. , 173.5,  22. ],\n",
              "       [ 69. , 168. ,  20. ],\n",
              "       [ 59. , 155. ,  17. ],\n",
              "       [ 96. , 169. ,  33. ],\n",
              "       [ 46. , 150. ,  17. ],\n",
              "       [ 66. , 160. ,  23. ],\n",
              "       [ 80. , 170. ,  13. ],\n",
              "       [ 70. , 159.5,   8. ],\n",
              "       [ 78. , 161. ,   8. ],\n",
              "       [ 80. , 164. ,  21. ],\n",
              "       [ 78. , 145. ,  21. ],\n",
              "       [ 52. , 153. ,  89. ],\n",
              "       [ 71. , 165. ,  17. ],\n",
              "       [ 60. , 153. ,  18. ],\n",
              "       [ 79. , 163. ,   6. ],\n",
              "       [ 56. , 150. ,   5. ],\n",
              "       [ 74. , 156. ,  25. ],\n",
              "       [ 50. , 169. ,  12. ],\n",
              "       [ 56. , 151. ,  10. ],\n",
              "       [ 84. , 164.5,  13. ],\n",
              "       [ 88. , 167. ,   8. ],\n",
              "       [ 75. , 165. ,  16. ],\n",
              "       [ 39. , 159. ,  19. ],\n",
              "       [ 68. , 150.5,  18. ],\n",
              "       [ 58. , 153. ,  19. ],\n",
              "       [ 79. , 153. ,  14. ],\n",
              "       [ 85. , 148.5,   7. ],\n",
              "       [ 67. , 149. ,   6. ],\n",
              "       [ 68. , 160. ,  14. ],\n",
              "       [ 72. , 160.5,  60. ],\n",
              "       [ 54. , 175. ,  11. ],\n",
              "       [ 63. , 158. ,  34. ],\n",
              "       [ 60. , 166. ,  18. ],\n",
              "       [ 62. , 165.5,  28. ],\n",
              "       [ 59. , 164. ,  11. ],\n",
              "       [ 56. , 157. ,  27. ],\n",
              "       [ 47. , 148.5,  22. ],\n",
              "       [ 68. , 165. ,  11. ],\n",
              "       [ 69. , 160. ,   8. ],\n",
              "       [ 54. , 154. ,  13. ],\n",
              "       [ 70. , 152. ,  11. ],\n",
              "       [ 75. , 164.5,   8. ],\n",
              "       [ 62. , 158. ,   8. ],\n",
              "       [ 75. , 166. ,  10. ],\n",
              "       [ 82. , 148.5,  13. ],\n",
              "       [ 73. , 161.5,  15. ],\n",
              "       [ 59. , 160. ,   6. ],\n",
              "       [ 71. , 166. ,  15. ],\n",
              "       [ 55. , 164. ,  11. ],\n",
              "       [ 69. , 164. ,   9. ],\n",
              "       [ 51. , 150.5,   9. ],\n",
              "       [ 62. , 170. ,  24. ],\n",
              "       [ 91. , 176. ,  24. ],\n",
              "       [ 76. , 173.5,   6. ],\n",
              "       [ 70. , 158. ,   8. ],\n",
              "       [ 56. , 152. ,   7. ],\n",
              "       [ 81. , 177. ,   7. ],\n",
              "       [ 76. , 161. ,  14. ],\n",
              "       [ 67. , 157. ,   5. ],\n",
              "       [ 63. , 159. ,  10. ],\n",
              "       [ 79. , 168.5,  33. ],\n",
              "       [ 77. , 162. ,  38. ],\n",
              "       [ 55. , 163. ,  23. ],\n",
              "       [ 78. , 175. ,  29. ],\n",
              "       [ 68. , 159. ,   7. ],\n",
              "       [ 78. , 158. ,  39. ],\n",
              "       [ 71. , 165. ,  21. ],\n",
              "       [ 81. , 149.5,   9. ],\n",
              "       [ 94. , 166. ,  18. ],\n",
              "       [ 74. , 149. ,  38. ],\n",
              "       [ 57. , 165.5,  29. ],\n",
              "       [ 61. , 154. ,   9. ],\n",
              "       [ 71. , 161. ,  12. ],\n",
              "       [ 60. , 165. ,  11. ],\n",
              "       [ 77. , 175.5,  19. ],\n",
              "       [ 66. , 157. ,  47. ],\n",
              "       [ 48. , 161. ,   6. ],\n",
              "       [ 50. , 152. ,  24. ],\n",
              "       [ 70. , 154. ,  14. ],\n",
              "       [ 67. , 172. ,   6. ],\n",
              "       [ 62. , 159. ,  30. ],\n",
              "       [ 49. , 144. ,  51. ],\n",
              "       [ 59. , 150.5,   6. ],\n",
              "       [ 73. , 166.5,   5. ],\n",
              "       [ 51. , 162. ,  23. ],\n",
              "       [ 74. , 176. ,  29. ],\n",
              "       [ 64.5, 162. ,   9. ],\n",
              "       [ 64. , 168. ,  10. ],\n",
              "       [ 60. , 159. ,  40. ],\n",
              "       [ 62. , 150.5,   5. ],\n",
              "       [ 52. , 156. ,  20. ],\n",
              "       [ 54. , 154. ,  12. ],\n",
              "       [ 69. , 163.5,  32. ],\n",
              "       [ 56. , 157. ,  15. ],\n",
              "       [ 54. , 166. ,  31. ],\n",
              "       [ 57. , 156.5,  69. ],\n",
              "       [ 61. , 150. ,   7. ],\n",
              "       [ 50. , 149.5,   7. ],\n",
              "       [ 40. , 150. ,  34. ],\n",
              "       [ 79. , 159. ,  10. ],\n",
              "       [ 37. , 152. ,   7. ],\n",
              "       [ 48. , 158. ,  21. ],\n",
              "       [ 36. , 152. ,  35. ],\n",
              "       [ 48. , 151. ,  32. ],\n",
              "       [ 52. , 146. ,  20. ],\n",
              "       [ 79. , 161. ,  38. ],\n",
              "       [ 50. , 154. ,  47. ],\n",
              "       [ 58. , 153. ,   8. ],\n",
              "       [ 52. , 151.5,  12. ],\n",
              "       [ 85. , 148.5,  26. ],\n",
              "       [ 63. , 148. ,  59. ],\n",
              "       [ 59. , 167. ,  21. ],\n",
              "       [ 48. , 160. ,  96. ],\n",
              "       [ 51. , 150. ,   9. ],\n",
              "       [ 66. , 166. ,  23. ],\n",
              "       [ 57. , 163. ,  24. ],\n",
              "       [ 62. , 177. ,   6. ],\n",
              "       [ 73. , 155.5,  11. ],\n",
              "       [ 56. , 168. ,   7. ],\n",
              "       [ 41. , 142. ,   7. ],\n",
              "       [ 66. , 151. ,  14. ],\n",
              "       [ 48. , 154. ,  13. ],\n",
              "       [ 54. , 170. ,  29. ],\n",
              "       [ 62. , 162.5,  15. ],\n",
              "       [ 55. , 162. ,  34. ],\n",
              "       [ 61. , 168.5,  17. ],\n",
              "       [ 55. , 156. ,   7. ],\n",
              "       [ 64. , 174. ,  23. ],\n",
              "       [ 68. , 164.5,  38. ],\n",
              "       [ 55. , 159.5,  11. ],\n",
              "       [ 45. , 159.5,   6. ],\n",
              "       [ 52. , 161. ,  32. ],\n",
              "       [ 64. , 170. ,  20. ],\n",
              "       [ 60. , 170. ,  48. ],\n",
              "       [ 80. , 172. ,   8. ],\n",
              "       [ 74. , 164. ,  49. ],\n",
              "       [ 59. , 161. ,   6. ],\n",
              "       [ 67. , 169. ,  10. ],\n",
              "       [ 70. , 166. ,  14. ],\n",
              "       [ 68.5, 165. ,  25. ]])"
            ]
          },
          "metadata": {},
          "execution_count": 19
        }
      ]
    },
    {
      "cell_type": "code",
      "source": [
        "y=df[['age','sex','bmi','bmd']].values\n",
        "y"
      ],
      "metadata": {
        "colab": {
          "base_uri": "https://localhost:8080/"
        },
        "id": "gxDnJSFto0VQ",
        "outputId": "a7cce444-ebbe-4892-f3b2-dbee6a4d585f"
      },
      "execution_count": 11,
      "outputs": [
        {
          "output_type": "execute_result",
          "data": {
            "text/plain": [
              "array([[57.05276775, 'F', 26.4678818457212, 0.8793],\n",
              "       [75.7412248, 'F', 29.721079103795148, 0.79460001],\n",
              "       [70.7789, 'M', 25.111583147719745, 0.90670002],\n",
              "       [78.24717531, 'F', 27.39225712198685, 0.7112],\n",
              "       [54.1918766, 'M', 21.218317194552675, 0.79089999],\n",
              "       [77.17775151, 'M', 23.030045351473927, 0.73009998],\n",
              "       [56.18061769, 'M', 30.457655947153988, 1.0096],\n",
              "       [49.91613988, 'F', 26.22222222222222, 0.73100001],\n",
              "       [68.40840332, 'M', 22.948115744558788, 0.6893],\n",
              "       [66.25664804, 'M', 28.301608671298435, 0.94660002],\n",
              "       [45.86658172, 'M', 21.707923392038097, 0.80150002],\n",
              "       [73.97047074, 'F', 25.282569898869724, 0.57929999],\n",
              "       [60.55541712, 'F', 31.63371488033298, 0.97600001],\n",
              "       [64.2131031, 'M', 29.387755102040817, 0.91839999],\n",
              "       [53.3954402, 'M', 26.50887573964497, 0.80199999],\n",
              "       [66.82546218, 'M', 25.990903183885642, 0.80330002],\n",
              "       [57.93459324, 'M', 26.171874999999996, 0.7978],\n",
              "       [40.23236742, 'M', 24.242424242424246, 1.039],\n",
              "       [69.04817915, 'F', 30.35925113847192, 0.78609997],\n",
              "       [57.80229798, 'F', 21.641274238227147, 0.82539999],\n",
              "       [58.19132915, 'F', 24.87771968291449, 0.84990001],\n",
              "       [46.08154976, 'M', 24.96494647925858, 0.89819998],\n",
              "       [65.79535204, 'F', 35.196195005945306, 0.77380002],\n",
              "       [60.18946129, 'F', 23.342422731275665, 0.83770001],\n",
              "       [54.99218408, 'M', 25.351541373715524, 0.81260002],\n",
              "       [51.43071736, 'F', 28.461797942317425, 0.92339998],\n",
              "       [70.19857261, 'M', 24.38237297859371, 1.0405999],\n",
              "       [77.15502036, 'M', 25.039918710988534, 1.002],\n",
              "       [70.42187319, 'F', 20.957171162932475, 0.625],\n",
              "       [75.01547985, 'M', 22.921874610701856, 0.9364],\n",
              "       [54.91253353, 'M', 24.44727891156463, 1.0908999],\n",
              "       [70.0285031, 'F', 24.55775234131113, 0.80790001],\n",
              "       [48.81687141, 'M', 33.61226847799447, 0.89950001],\n",
              "       [49.78743656, 'F', 20.444444444444443, 0.73500001],\n",
              "       [41.41761507, 'M', 25.781249999999996, 1.0003],\n",
              "       [67.92438462, 'M', 27.68166089965398, 1.0128],\n",
              "       [60.8313568, 'M', 27.51545287487348, 1.0265],\n",
              "       [62.71790768, 'M', 30.091431657729252, 0.8994],\n",
              "       [69.65373122, 'M', 29.744199881023206, 1.0031],\n",
              "       [81.47969034, 'F', 37.098692033293695, 0.90609998],\n",
              "       [73.23042708, 'F', 22.21367849972233, 0.71280003],\n",
              "       [54.42421077, 'F', 26.07897153351699, 1.0266],\n",
              "       [66.64486617, 'F', 25.63116749967961, 0.963],\n",
              "       [83.84773532, 'M', 29.733900410252552, 0.84289998],\n",
              "       [67.65108105, 'F', 24.88888888888889, 0.92619997],\n",
              "       [82.42315923, 'F', 30.407626561472714, 0.81709999],\n",
              "       [54.23390445, 'M', 17.506389832288786, 0.71280003],\n",
              "       [42.81703317, 'F', 24.560326301478007, 0.88880002],\n",
              "       [69.72844532, 'M', 31.04184181594775, 1.3624001],\n",
              "       [76.8639147, 'M', 31.553659148768332, 1.0015],\n",
              "       [43.45071208, 'M', 27.548209366391188, 1.0197999],\n",
              "       [67.57338008, 'M', 15.426604960246824, 0.55140001],\n",
              "       [56.20812741, 'F', 30.02174368936326, 0.71710002],\n",
              "       [88.7537953, 'M', 24.77679524969029, 0.85479999],\n",
              "       [70.40792405, 'F', 33.74770387457816, 0.7766],\n",
              "       [62.06523735, 'F', 38.54481968960083, 0.7999],\n",
              "       [61.18467166, 'F', 30.178820773839018, 0.80129999],\n",
              "       [48.28948823, 'M', 26.562499999999996, 0.9716],\n",
              "       [49.73132379, 'F', 27.950039304742774, 0.98509997],\n",
              "       [36.64831103, 'M', 17.632653061224488, 0.85600001],\n",
              "       [63.67318436, 'F', 25.236340330075304, 0.70950001],\n",
              "       [74.17835572, 'M', 21.773842357381334, 0.63380003],\n",
              "       [63.28728844, 'F', 22.635791933260922, 0.73839998],\n",
              "       [56.95872053, 'F', 21.936347412254616, 0.73470002],\n",
              "       [46.56490164, 'F', 22.7189744005842, 0.73460001],\n",
              "       [47.02465066, 'F', 21.313017946014575, 0.64960003],\n",
              "       [84.78739433, 'M', 24.977043158861342, 1.2508],\n",
              "       [54.40617797, 'F', 26.953124999999996, 0.88190001],\n",
              "       [51.59653972, 'F', 22.76943835385394, 0.7755],\n",
              "       [61.17008505, 'F', 30.297783933518005, 0.8599],\n",
              "       [73.94030609, 'M', 27.71593019281049, 0.8829],\n",
              "       [54.77277445, 'F', 24.83576349943919, 0.79659998],\n",
              "       [66.67269226, 'M', 27.21730294672667, 0.77579999],\n",
              "       [59.46131701, 'F', 37.18441428879139, 0.90359998],\n",
              "       [50.36051644, 'F', 27.98838290408228, 0.86379999],\n",
              "       [55.41170957, 'F', 23.046874999999996, 0.75099999],\n",
              "       [56.54581828, 'M', 25.76571345623458, 1.0839],\n",
              "       [63.48783737, 'M', 20.449137418203453, 0.74089998],\n",
              "       [72.08055823, 'M', 25.654372397382513, 0.99900001],\n",
              "       [58.26221496, 'F', 22.516307767022443, 0.58990002],\n",
              "       [58.67087154, 'M', 21.453287197231838, 0.87199998],\n",
              "       [58.33505192, 'M', 29.3775826446281, 1.1335],\n",
              "       [39.25494707, 'M', 25.247282179903493, 1.0502],\n",
              "       [60.23658177, 'F', 28.040378144528116, 0.8362],\n",
              "       [63.76954463, 'F', 24.238227146814403, 0.72149998],\n",
              "       [44.23967859, 'M', 25.854639471416256, 0.9824],\n",
              "       [79.39970672, 'M', 29.319856487018246, 0.9436],\n",
              "       [65.13435742, 'M', 27.18163008641324, 0.86220002],\n",
              "       [66.55921764, 'F', 24.919900320398717, 0.78049999],\n",
              "       [35.81405763, 'M', 27.824494360256757, 0.7895],\n",
              "       [69.08663791, 'M', 29.340039628105465, 0.85089999],\n",
              "       [59.26117883, 'M', 20.70081674131507, 0.76599997],\n",
              "       [59.70722073, 'M', 25.46938775510204, 0.85930002],\n",
              "       [61.60041411, 'F', 26.897670187097027, 0.91390002],\n",
              "       [69.23719028, 'F', 31.244992789617044, 0.7586],\n",
              "       [52.32252245, 'M', 26.07897153351699, 0.87760001],\n",
              "       [72.77238723, 'F', 36.24120535564479, 0.509],\n",
              "       [60.22138607, 'M', 34.11235302656409, 1.0617],\n",
              "       [58.81240985, 'F', 33.331831899463985, 0.83069998],\n",
              "       [54.49762635, 'F', 20.810324841868912, 0.73110002],\n",
              "       [52.90099358, 'F', 25.72103221453871, 0.97060001],\n",
              "       [63.02469707, 'M', 27.390918560240728, 1.0366],\n",
              "       [64.0659499, 'F', 22.03856749311295, 0.77819997],\n",
              "       [52.79292063, 'M', 24.999797079569163, 0.88880002],\n",
              "       [49.20966328, 'M', 26.775934114974238, 0.72689998],\n",
              "       [68.57130833, 'F', 18.517804097064154, 0.70959997],\n",
              "       [77.9064001, 'F', 21.641274238227147, 0.61220002],\n",
              "       [68.55087894, 'F', 29.515938606847698, 0.83899999],\n",
              "       [44.68312684, 'M', 22.647376960519203, 0.90100002],\n",
              "       [67.92552839, 'F', 24.524346347059055, 1.0176001],\n",
              "       [68.06825266, 'F', 23.630401234567902, 0.75089997],\n",
              "       [52.47831105, 'F', 26.048277612829885, 0.73140001],\n",
              "       [60.88359606, 'M', 26.332638945251556, 0.83700001],\n",
              "       [43.46317104, 'M', 19.43301326017375, 0.796],\n",
              "       [57.56917982, 'M', 23.889462809917354, 1.0287],\n",
              "       [56.96445803, 'M', 24.57704618198445, 0.72009999],\n",
              "       [52.24655176, 'M', 22.67573696145125, 0.61870003],\n",
              "       [56.93126646, 'F', 23.73323840037973, 0.67439997],\n",
              "       [66.33562311, 'F', 27.372766305007676, 0.86809999],\n",
              "       [83.09364681, 'F', 21.367521367521366, 0.45860001],\n",
              "       [81.48136958, 'M', 22.76943835385394, 0.48179999],\n",
              "       [53.53171717, 'M', 25.81151979350784, 0.52789998],\n",
              "       [69.21393466, 'F', 22.7189744005842, 0.52850002],\n",
              "       [73.06759806, 'M', 19.5964581216432, 0.52869999],\n",
              "       [87.93494224, 'M', 23.272667884739054, 0.53869998],\n",
              "       [77.76867742, 'F', 27.11111111111111, 0.54189998],\n",
              "       [81.08738516, 'F', 22.371114417064682, 0.55150002],\n",
              "       [53.7692897, 'F', 17.77777777777778, 0.55790001],\n",
              "       [80.77319346, 'M', 31.24876389383331, 0.56760001],\n",
              "       [76.94473691, 'F', 16.014542936288088, 0.56349999],\n",
              "       [82.40717913, 'M', 19.227687870533565, 0.57209998],\n",
              "       [57.58119772, 'F', 15.581717451523545, 0.52939999],\n",
              "       [77.81962254, 'F', 21.051708258409718, 0.55470002],\n",
              "       [76.74551614, 'F', 24.394820791893416, 0.56029999],\n",
              "       [54.15273476, 'M', 30.477219243084754, 0.5693],\n",
              "       [72.27013664, 'F', 21.0828132906055, 0.60009998],\n",
              "       [68.01774844, 'F', 24.77679524969029, 0.6103],\n",
              "       [88.02415052, 'M', 22.655730919626617, 0.62040001],\n",
              "       [69.97770123, 'F', 38.54481968960083, 0.62639999],\n",
              "       [71.17212415, 'F', 28.761869978086196, 0.40759999],\n",
              "       [70.94756425, 'M', 21.15529420201513, 0.44069999],\n",
              "       [74.7968828, 'F', 18.749999999999996, 0.48519999],\n",
              "       [83.21982284, 'F', 22.666666666666668, 0.55549997],\n",
              "       [81.97955903, 'M', 23.95122659311947, 0.56150001],\n",
              "       [85.90159463, 'M', 21.453573713726524, 0.61019999],\n",
              "       [71.47172115, 'M', 19.789970953429727, 0.62970001],\n",
              "       [76.73260358, 'F', 30.189927730275745, 0.63849998],\n",
              "       [83.67835729, 'M', 19.841269841269845, 0.63880002],\n",
              "       [85.57631118, 'F', 20.333267208887126, 0.64090002],\n",
              "       [70.81094137, 'F', 28.946098855313362, 0.64319998],\n",
              "       [68.68328771, 'F', 20.23950075898128, 0.64480001],\n",
              "       [86.85986938, 'M', 18.68512110726644, 0.64950001],\n",
              "       [80.06020512, 'M', 23.4792899408284, 0.67079997],\n",
              "       [61.64450359, 'F', 20.957171162932475, 0.68800002],\n",
              "       [66.80418542, 'M', 21.48473615159066, 0.6882],\n",
              "       [37.46199496, 'M', 22.600262984878366, 0.68839997],\n",
              "       [63.4419661, 'M', 21.13885585942661, 0.68989998],\n",
              "       [51.04837034, 'F', 25.12911004148151, 0.6904],\n",
              "       [48.52365084, 'F', 21.619284401686304, 0.6904],\n",
              "       [41.35119985, 'M', 17.688505419561523, 0.7076],\n",
              "       [84.72176364, 'M', 20.060954438486167, 0.70850003],\n",
              "       [59.07608201, 'M', 22.145328719723185, 0.72460002],\n",
              "       [50.27605888, 'F', 20.761245674740486, 0.73989999],\n",
              "       [67.25216263, 'M', 27.041644131963228, 0.77450001],\n",
              "       [77.98254308, 'M', 27.513384889946465, 0.79409999],\n",
              "       [50.28530296, 'F', 22.76146753597469, 0.79710001],\n",
              "       [46.35972067, 'M', 23.458562375266975, 0.80369997],\n",
              "       [54.78836776, 'M', 25.402816083611555, 0.80720001],\n",
              "       [69.99482235, 'F', 25.160697887970617, 0.8664]], dtype=object)"
            ]
          },
          "metadata": {},
          "execution_count": 11
        }
      ]
    },
    {
      "cell_type": "code",
      "source": [
        "from sklearn.preprocessing import LabelEncoder\n",
        "label_y = LabelEncoder()\n",
        "label_y"
      ],
      "metadata": {
        "colab": {
          "base_uri": "https://localhost:8080/",
          "height": 74
        },
        "id": "_wssLXGtpG-4",
        "outputId": "2d297edb-d230-4fcb-f938-b7f6113fc144"
      },
      "execution_count": 14,
      "outputs": [
        {
          "output_type": "execute_result",
          "data": {
            "text/plain": [
              "LabelEncoder()"
            ],
            "text/html": [
              "<style>#sk-container-id-1 {color: black;background-color: white;}#sk-container-id-1 pre{padding: 0;}#sk-container-id-1 div.sk-toggleable {background-color: white;}#sk-container-id-1 label.sk-toggleable__label {cursor: pointer;display: block;width: 100%;margin-bottom: 0;padding: 0.3em;box-sizing: border-box;text-align: center;}#sk-container-id-1 label.sk-toggleable__label-arrow:before {content: \"▸\";float: left;margin-right: 0.25em;color: #696969;}#sk-container-id-1 label.sk-toggleable__label-arrow:hover:before {color: black;}#sk-container-id-1 div.sk-estimator:hover label.sk-toggleable__label-arrow:before {color: black;}#sk-container-id-1 div.sk-toggleable__content {max-height: 0;max-width: 0;overflow: hidden;text-align: left;background-color: #f0f8ff;}#sk-container-id-1 div.sk-toggleable__content pre {margin: 0.2em;color: black;border-radius: 0.25em;background-color: #f0f8ff;}#sk-container-id-1 input.sk-toggleable__control:checked~div.sk-toggleable__content {max-height: 200px;max-width: 100%;overflow: auto;}#sk-container-id-1 input.sk-toggleable__control:checked~label.sk-toggleable__label-arrow:before {content: \"▾\";}#sk-container-id-1 div.sk-estimator input.sk-toggleable__control:checked~label.sk-toggleable__label {background-color: #d4ebff;}#sk-container-id-1 div.sk-label input.sk-toggleable__control:checked~label.sk-toggleable__label {background-color: #d4ebff;}#sk-container-id-1 input.sk-hidden--visually {border: 0;clip: rect(1px 1px 1px 1px);clip: rect(1px, 1px, 1px, 1px);height: 1px;margin: -1px;overflow: hidden;padding: 0;position: absolute;width: 1px;}#sk-container-id-1 div.sk-estimator {font-family: monospace;background-color: #f0f8ff;border: 1px dotted black;border-radius: 0.25em;box-sizing: border-box;margin-bottom: 0.5em;}#sk-container-id-1 div.sk-estimator:hover {background-color: #d4ebff;}#sk-container-id-1 div.sk-parallel-item::after {content: \"\";width: 100%;border-bottom: 1px solid gray;flex-grow: 1;}#sk-container-id-1 div.sk-label:hover label.sk-toggleable__label {background-color: #d4ebff;}#sk-container-id-1 div.sk-serial::before {content: \"\";position: absolute;border-left: 1px solid gray;box-sizing: border-box;top: 0;bottom: 0;left: 50%;z-index: 0;}#sk-container-id-1 div.sk-serial {display: flex;flex-direction: column;align-items: center;background-color: white;padding-right: 0.2em;padding-left: 0.2em;position: relative;}#sk-container-id-1 div.sk-item {position: relative;z-index: 1;}#sk-container-id-1 div.sk-parallel {display: flex;align-items: stretch;justify-content: center;background-color: white;position: relative;}#sk-container-id-1 div.sk-item::before, #sk-container-id-1 div.sk-parallel-item::before {content: \"\";position: absolute;border-left: 1px solid gray;box-sizing: border-box;top: 0;bottom: 0;left: 50%;z-index: -1;}#sk-container-id-1 div.sk-parallel-item {display: flex;flex-direction: column;z-index: 1;position: relative;background-color: white;}#sk-container-id-1 div.sk-parallel-item:first-child::after {align-self: flex-end;width: 50%;}#sk-container-id-1 div.sk-parallel-item:last-child::after {align-self: flex-start;width: 50%;}#sk-container-id-1 div.sk-parallel-item:only-child::after {width: 0;}#sk-container-id-1 div.sk-dashed-wrapped {border: 1px dashed gray;margin: 0 0.4em 0.5em 0.4em;box-sizing: border-box;padding-bottom: 0.4em;background-color: white;}#sk-container-id-1 div.sk-label label {font-family: monospace;font-weight: bold;display: inline-block;line-height: 1.2em;}#sk-container-id-1 div.sk-label-container {text-align: center;}#sk-container-id-1 div.sk-container {/* jupyter's `normalize.less` sets `[hidden] { display: none; }` but bootstrap.min.css set `[hidden] { display: none !important; }` so we also need the `!important` here to be able to override the default hidden behavior on the sphinx rendered scikit-learn.org. See: https://github.com/scikit-learn/scikit-learn/issues/21755 */display: inline-block !important;position: relative;}#sk-container-id-1 div.sk-text-repr-fallback {display: none;}</style><div id=\"sk-container-id-1\" class=\"sk-top-container\"><div class=\"sk-text-repr-fallback\"><pre>LabelEncoder()</pre><b>In a Jupyter environment, please rerun this cell to show the HTML representation or trust the notebook. <br />On GitHub, the HTML representation is unable to render, please try loading this page with nbviewer.org.</b></div><div class=\"sk-container\" hidden><div class=\"sk-item\"><div class=\"sk-estimator sk-toggleable\"><input class=\"sk-toggleable__control sk-hidden--visually\" id=\"sk-estimator-id-1\" type=\"checkbox\" checked><label for=\"sk-estimator-id-1\" class=\"sk-toggleable__label sk-toggleable__label-arrow\">LabelEncoder</label><div class=\"sk-toggleable__content\"><pre>LabelEncoder()</pre></div></div></div></div></div>"
            ]
          },
          "metadata": {},
          "execution_count": 14
        }
      ]
    },
    {
      "cell_type": "code",
      "source": [
        "y=label_y.fit_transform(df['sex'].values)\n",
        "y"
      ],
      "metadata": {
        "colab": {
          "base_uri": "https://localhost:8080/"
        },
        "id": "7MEJi_r0pS8T",
        "outputId": "1c4b13ab-ef95-422b-a939-abbeae0fbb17"
      },
      "execution_count": 17,
      "outputs": [
        {
          "output_type": "execute_result",
          "data": {
            "text/plain": [
              "array([0, 0, 1, 0, 1, 1, 1, 0, 1, 1, 1, 0, 0, 1, 1, 1, 1, 1, 0, 0, 0, 1,\n",
              "       0, 0, 1, 0, 1, 1, 0, 1, 1, 0, 1, 0, 1, 1, 1, 1, 1, 0, 0, 0, 0, 1,\n",
              "       0, 0, 1, 0, 1, 1, 1, 1, 0, 1, 0, 0, 0, 1, 0, 1, 0, 1, 0, 0, 0, 0,\n",
              "       1, 0, 0, 0, 1, 0, 1, 0, 0, 0, 1, 1, 1, 0, 1, 1, 1, 0, 0, 1, 1, 1,\n",
              "       0, 1, 1, 1, 1, 0, 0, 1, 0, 1, 0, 0, 0, 1, 0, 1, 1, 0, 0, 0, 1, 0,\n",
              "       0, 0, 1, 1, 1, 1, 1, 0, 0, 0, 1, 1, 0, 1, 1, 0, 0, 0, 1, 0, 1, 0,\n",
              "       0, 0, 1, 0, 0, 1, 0, 0, 1, 0, 0, 1, 1, 1, 0, 1, 0, 0, 0, 1, 1, 0,\n",
              "       1, 1, 1, 0, 0, 1, 1, 1, 0, 1, 1, 0, 1, 1, 0])"
            ]
          },
          "metadata": {},
          "execution_count": 17
        }
      ]
    },
    {
      "cell_type": "code",
      "source": [
        "from sklearn.model_selection import train_test_split\n",
        "x_train,x_test,y_train,y_test=train_test_split(x,y,test_size=0.3)\n",
        "x_train"
      ],
      "metadata": {
        "colab": {
          "base_uri": "https://localhost:8080/"
        },
        "id": "XhCeHq3vpkYa",
        "outputId": "01d6768e-b438-44fd-d650-3c1bc1859581"
      },
      "execution_count": 24,
      "outputs": [
        {
          "output_type": "execute_result",
          "data": {
            "text/plain": [
              "array([[ 81. , 177. ,   7. ],\n",
              "       [ 55. , 162. ,  15. ],\n",
              "       [ 68.5, 165. ,  25. ],\n",
              "       [ 45. , 159.5,   6. ],\n",
              "       [ 80. , 164. ,  21. ],\n",
              "       [ 55. , 156. ,   7. ],\n",
              "       [ 60. , 165. ,  11. ],\n",
              "       [ 68. , 150.5,  18. ],\n",
              "       [ 85. , 148.5,   7. ],\n",
              "       [ 73. , 155.5,  11. ],\n",
              "       [ 67.5, 154. ,  10. ],\n",
              "       [ 55. , 159.5,  11. ],\n",
              "       [ 50. , 152. ,  24. ],\n",
              "       [ 68. , 164.5,  38. ],\n",
              "       [ 54. , 154. ,  13. ],\n",
              "       [ 78. , 175. ,  29. ],\n",
              "       [ 59. , 154. ,  10. ],\n",
              "       [ 59. , 167. ,  21. ],\n",
              "       [ 88. , 167. ,   8. ],\n",
              "       [ 52. , 161. ,  32. ],\n",
              "       [ 78. , 145. ,  21. ],\n",
              "       [ 62. , 170. ,  24. ],\n",
              "       [ 91. , 176. ,  24. ],\n",
              "       [ 66. , 151. ,  14. ],\n",
              "       [ 73. , 161.5,  15. ],\n",
              "       [ 90. , 175. ,  28. ],\n",
              "       [ 40. , 150. ,  34. ],\n",
              "       [ 60. , 170. ,  48. ],\n",
              "       [ 77. , 175.5,  19. ],\n",
              "       [ 70. , 158. ,   8. ],\n",
              "       [ 74. , 164. ,  49. ],\n",
              "       [ 60. , 153. ,  18. ],\n",
              "       [ 79. , 163. ,   6. ],\n",
              "       [ 61. , 154. ,   9. ],\n",
              "       [ 68. , 167. ,   5. ],\n",
              "       [ 50. , 149.5,   7. ],\n",
              "       [ 56. , 151. ,  10. ],\n",
              "       [ 64. , 170. ,  20. ],\n",
              "       [ 48. , 158. ,  21. ],\n",
              "       [ 54. , 154. ,  12. ],\n",
              "       [ 50. , 154. ,  47. ],\n",
              "       [ 75. , 165. ,  16. ],\n",
              "       [ 79. , 159. ,  10. ],\n",
              "       [ 74. , 145. ,  14. ],\n",
              "       [ 56. , 152. ,   7. ],\n",
              "       [ 61. , 168.5,  17. ],\n",
              "       [ 59. , 150. ,   9. ],\n",
              "       [ 62. , 159. ,  30. ],\n",
              "       [ 55. , 164. ,  11. ],\n",
              "       [ 60. , 159. ,  40. ],\n",
              "       [ 75. , 164.5,   8. ],\n",
              "       [ 76. , 161. ,  14. ],\n",
              "       [ 63. , 159. ,  10. ],\n",
              "       [ 57. , 163. ,  24. ],\n",
              "       [ 55. , 161. ,  20. ],\n",
              "       [ 74. , 176. ,  29. ],\n",
              "       [ 51. , 150. ,   9. ],\n",
              "       [ 78. , 162. ,  56. ],\n",
              "       [ 59. , 164. ,  11. ],\n",
              "       [ 58. , 153. ,  19. ],\n",
              "       [ 79. , 153. ,  14. ],\n",
              "       [ 52. , 146. ,  20. ],\n",
              "       [ 72. , 154. ,  11. ],\n",
              "       [ 66. , 160. ,  23. ],\n",
              "       [ 57. , 165.5,  29. ],\n",
              "       [ 78. , 158. ,  39. ],\n",
              "       [ 64. , 174. ,  23. ],\n",
              "       [ 54. , 170. ,  29. ],\n",
              "       [ 48. , 160. ,  96. ],\n",
              "       [ 70. , 152. ,  11. ],\n",
              "       [ 78. , 161. ,   8. ],\n",
              "       [ 73. , 166.5,   5. ],\n",
              "       [ 71. , 165. ,  17. ],\n",
              "       [ 76. , 171. ,  13. ],\n",
              "       [ 68. , 165. ,  11. ],\n",
              "       [ 69. , 164. ,   9. ],\n",
              "       [ 57. , 156.5,  69. ],\n",
              "       [ 67. , 169. ,  10. ],\n",
              "       [ 49. , 144. ,  51. ],\n",
              "       [ 63. , 148. ,  59. ],\n",
              "       [ 65. , 168. ,   7. ],\n",
              "       [ 73. , 170.5,  10. ],\n",
              "       [ 56. , 157. ,  27. ],\n",
              "       [ 54. , 166. ,  31. ],\n",
              "       [ 48. , 151. ,  32. ],\n",
              "       [ 58. , 153. ,   8. ],\n",
              "       [ 72. , 160.5,  60. ],\n",
              "       [ 68. , 160. ,  14. ],\n",
              "       [ 79. , 161. ,  38. ],\n",
              "       [ 76. , 155. ,  11. ],\n",
              "       [ 56. , 168. ,   7. ],\n",
              "       [ 64. , 155.5,  18. ],\n",
              "       [ 71. , 165. ,  21. ],\n",
              "       [ 46. , 150. ,  17. ],\n",
              "       [ 59. , 161. ,   6. ],\n",
              "       [ 69. , 160. ,   8. ],\n",
              "       [ 69. , 166. ,   9. ],\n",
              "       [ 79. , 168.5,  33. ],\n",
              "       [ 69. , 168. ,  20. ],\n",
              "       [ 81. , 149.5,   9. ],\n",
              "       [ 52. , 153. ,  89. ],\n",
              "       [ 60. , 148. ,  14. ],\n",
              "       [ 70. , 162.5,  73. ],\n",
              "       [ 75. , 172. ,  64. ],\n",
              "       [ 62. , 177. ,   6. ],\n",
              "       [ 82. , 148.5,  13. ],\n",
              "       [ 68. , 159. ,   7. ],\n",
              "       [ 70. , 154. ,  14. ],\n",
              "       [ 62. , 150.5,   5. ],\n",
              "       [ 71. , 161. ,  12. ],\n",
              "       [ 76. , 173.5,   6. ],\n",
              "       [ 51. , 162. ,  23. ],\n",
              "       [ 69. , 163.5,  32. ],\n",
              "       [ 84. , 164.5,  13. ],\n",
              "       [ 55. , 153.5,  22. ],\n",
              "       [ 64.5, 162. ,   9. ],\n",
              "       [ 51. , 150.5,   9. ],\n",
              "       [ 56. , 150. ,   5. ]])"
            ]
          },
          "metadata": {},
          "execution_count": 24
        }
      ]
    },
    {
      "cell_type": "code",
      "source": [
        "from sklearn.linear_model import LogisticRegression\n",
        "model = LogisticRegression()\n",
        "model"
      ],
      "metadata": {
        "colab": {
          "base_uri": "https://localhost:8080/",
          "height": 74
        },
        "id": "56ru41v_p9Ld",
        "outputId": "4c202eca-7c32-470c-c4b0-78174be608de"
      },
      "execution_count": 22,
      "outputs": [
        {
          "output_type": "execute_result",
          "data": {
            "text/plain": [
              "LogisticRegression()"
            ],
            "text/html": [
              "<style>#sk-container-id-2 {color: black;background-color: white;}#sk-container-id-2 pre{padding: 0;}#sk-container-id-2 div.sk-toggleable {background-color: white;}#sk-container-id-2 label.sk-toggleable__label {cursor: pointer;display: block;width: 100%;margin-bottom: 0;padding: 0.3em;box-sizing: border-box;text-align: center;}#sk-container-id-2 label.sk-toggleable__label-arrow:before {content: \"▸\";float: left;margin-right: 0.25em;color: #696969;}#sk-container-id-2 label.sk-toggleable__label-arrow:hover:before {color: black;}#sk-container-id-2 div.sk-estimator:hover label.sk-toggleable__label-arrow:before {color: black;}#sk-container-id-2 div.sk-toggleable__content {max-height: 0;max-width: 0;overflow: hidden;text-align: left;background-color: #f0f8ff;}#sk-container-id-2 div.sk-toggleable__content pre {margin: 0.2em;color: black;border-radius: 0.25em;background-color: #f0f8ff;}#sk-container-id-2 input.sk-toggleable__control:checked~div.sk-toggleable__content {max-height: 200px;max-width: 100%;overflow: auto;}#sk-container-id-2 input.sk-toggleable__control:checked~label.sk-toggleable__label-arrow:before {content: \"▾\";}#sk-container-id-2 div.sk-estimator input.sk-toggleable__control:checked~label.sk-toggleable__label {background-color: #d4ebff;}#sk-container-id-2 div.sk-label input.sk-toggleable__control:checked~label.sk-toggleable__label {background-color: #d4ebff;}#sk-container-id-2 input.sk-hidden--visually {border: 0;clip: rect(1px 1px 1px 1px);clip: rect(1px, 1px, 1px, 1px);height: 1px;margin: -1px;overflow: hidden;padding: 0;position: absolute;width: 1px;}#sk-container-id-2 div.sk-estimator {font-family: monospace;background-color: #f0f8ff;border: 1px dotted black;border-radius: 0.25em;box-sizing: border-box;margin-bottom: 0.5em;}#sk-container-id-2 div.sk-estimator:hover {background-color: #d4ebff;}#sk-container-id-2 div.sk-parallel-item::after {content: \"\";width: 100%;border-bottom: 1px solid gray;flex-grow: 1;}#sk-container-id-2 div.sk-label:hover label.sk-toggleable__label {background-color: #d4ebff;}#sk-container-id-2 div.sk-serial::before {content: \"\";position: absolute;border-left: 1px solid gray;box-sizing: border-box;top: 0;bottom: 0;left: 50%;z-index: 0;}#sk-container-id-2 div.sk-serial {display: flex;flex-direction: column;align-items: center;background-color: white;padding-right: 0.2em;padding-left: 0.2em;position: relative;}#sk-container-id-2 div.sk-item {position: relative;z-index: 1;}#sk-container-id-2 div.sk-parallel {display: flex;align-items: stretch;justify-content: center;background-color: white;position: relative;}#sk-container-id-2 div.sk-item::before, #sk-container-id-2 div.sk-parallel-item::before {content: \"\";position: absolute;border-left: 1px solid gray;box-sizing: border-box;top: 0;bottom: 0;left: 50%;z-index: -1;}#sk-container-id-2 div.sk-parallel-item {display: flex;flex-direction: column;z-index: 1;position: relative;background-color: white;}#sk-container-id-2 div.sk-parallel-item:first-child::after {align-self: flex-end;width: 50%;}#sk-container-id-2 div.sk-parallel-item:last-child::after {align-self: flex-start;width: 50%;}#sk-container-id-2 div.sk-parallel-item:only-child::after {width: 0;}#sk-container-id-2 div.sk-dashed-wrapped {border: 1px dashed gray;margin: 0 0.4em 0.5em 0.4em;box-sizing: border-box;padding-bottom: 0.4em;background-color: white;}#sk-container-id-2 div.sk-label label {font-family: monospace;font-weight: bold;display: inline-block;line-height: 1.2em;}#sk-container-id-2 div.sk-label-container {text-align: center;}#sk-container-id-2 div.sk-container {/* jupyter's `normalize.less` sets `[hidden] { display: none; }` but bootstrap.min.css set `[hidden] { display: none !important; }` so we also need the `!important` here to be able to override the default hidden behavior on the sphinx rendered scikit-learn.org. See: https://github.com/scikit-learn/scikit-learn/issues/21755 */display: inline-block !important;position: relative;}#sk-container-id-2 div.sk-text-repr-fallback {display: none;}</style><div id=\"sk-container-id-2\" class=\"sk-top-container\"><div class=\"sk-text-repr-fallback\"><pre>LogisticRegression()</pre><b>In a Jupyter environment, please rerun this cell to show the HTML representation or trust the notebook. <br />On GitHub, the HTML representation is unable to render, please try loading this page with nbviewer.org.</b></div><div class=\"sk-container\" hidden><div class=\"sk-item\"><div class=\"sk-estimator sk-toggleable\"><input class=\"sk-toggleable__control sk-hidden--visually\" id=\"sk-estimator-id-2\" type=\"checkbox\" checked><label for=\"sk-estimator-id-2\" class=\"sk-toggleable__label sk-toggleable__label-arrow\">LogisticRegression</label><div class=\"sk-toggleable__content\"><pre>LogisticRegression()</pre></div></div></div></div></div>"
            ]
          },
          "metadata": {},
          "execution_count": 22
        }
      ]
    },
    {
      "cell_type": "code",
      "source": [
        "model.fit(x_train,y_train)\n",
        "y_pred=model.predict(x_test)\n",
        "y_pred\n",
        "\n"
      ],
      "metadata": {
        "colab": {
          "base_uri": "https://localhost:8080/"
        },
        "id": "mF6zQ6j3q8SB",
        "outputId": "d6436c5e-19e6-4b13-8bc9-9ca2ada4ee3a"
      },
      "execution_count": 33,
      "outputs": [
        {
          "output_type": "execute_result",
          "data": {
            "text/plain": [
              "array([1, 1, 0, 1, 0, 0, 0, 0, 1, 0, 1, 0, 1, 1, 0, 1, 0, 0, 0, 0, 1, 1,\n",
              "       0, 1, 0, 1, 1, 1, 0, 0, 0, 1, 0, 0, 0, 1, 1, 1, 1, 1, 1, 0, 0, 1,\n",
              "       1, 1, 0, 1, 1, 0, 1])"
            ]
          },
          "metadata": {},
          "execution_count": 33
        }
      ]
    },
    {
      "cell_type": "code",
      "source": [
        "plt.plot(y_test,y_pred,color='b')\n",
        "plt.show()\n"
      ],
      "metadata": {
        "colab": {
          "base_uri": "https://localhost:8080/",
          "height": 430
        },
        "id": "ciQ2bxfyrHWD",
        "outputId": "9a77cd9f-169c-454f-c197-95dd7551ee2b"
      },
      "execution_count": 36,
      "outputs": [
        {
          "output_type": "display_data",
          "data": {
            "text/plain": [
              "<Figure size 640x480 with 1 Axes>"
            ],
            "image/png": "[encoded data removed]"
          },
          "metadata": {}
        }
      ]
    },
    {
      "cell_type": "code",
      "source": [
        "from sklearn.metrics import confusion_matrix\n",
        "confusion_matrix(y_test,y_pred)"
      ],
      "metadata": {
        "colab": {
          "base_uri": "https://localhost:8080/"
        },
        "id": "rnCfph7Pru2V",
        "outputId": "f81fa57d-6e57-48eb-ff5e-f67004a2e019"
      },
      "execution_count": 39,
      "outputs": [
        {
          "output_type": "execute_result",
          "data": {
            "text/plain": [
              "array([[17,  5],\n",
              "       [ 7, 22]])"
            ]
          },
          "metadata": {},
          "execution_count": 39
        }
      ]
    },
    {
      "cell_type": "code",
      "source": [
        "model.score(x_test,y_test)"
      ],
      "metadata": {
        "colab": {
          "base_uri": "https://localhost:8080/"
        },
        "id": "j2QTw9e7s5Qj",
        "outputId": "8910c26e-7544-49f5-f58e-993e2fc808a2"
      },
      "execution_count": 40,
      "outputs": [
        {
          "output_type": "execute_result",
          "data": {
            "text/plain": [
              "0.7647058823529411"
            ]
          },
          "metadata": {},
          "execution_count": 40
        }
      ]
    },
    {
      "cell_type": "code",
      "source": [
        "from sklearn.svm import SVC\n",
        "model1=SVC()\n",
        "model1"
      ],
      "metadata": {
        "colab": {
          "base_uri": "https://localhost:8080/",
          "height": 74
        },
        "id": "lK-QTrRbtFbI",
        "outputId": "6ceac24d-f906-4c72-912f-08699f0ca29f"
      },
      "execution_count": 42,
      "outputs": [
        {
          "output_type": "execute_result",
          "data": {
            "text/plain": [
              "SVC()"
            ],
            "text/html": [
              "<style>#sk-container-id-3 {color: black;background-color: white;}#sk-container-id-3 pre{padding: 0;}#sk-container-id-3 div.sk-toggleable {background-color: white;}#sk-container-id-3 label.sk-toggleable__label {cursor: pointer;display: block;width: 100%;margin-bottom: 0;padding: 0.3em;box-sizing: border-box;text-align: center;}#sk-container-id-3 label.sk-toggleable__label-arrow:before {content: \"▸\";float: left;margin-right: 0.25em;color: #696969;}#sk-container-id-3 label.sk-toggleable__label-arrow:hover:before {color: black;}#sk-container-id-3 div.sk-estimator:hover label.sk-toggleable__label-arrow:before {color: black;}#sk-container-id-3 div.sk-toggleable__content {max-height: 0;max-width: 0;overflow: hidden;text-align: left;background-color: #f0f8ff;}#sk-container-id-3 div.sk-toggleable__content pre {margin: 0.2em;color: black;border-radius: 0.25em;background-color: #f0f8ff;}#sk-container-id-3 input.sk-toggleable__control:checked~div.sk-toggleable__content {max-height: 200px;max-width: 100%;overflow: auto;}#sk-container-id-3 input.sk-toggleable__control:checked~label.sk-toggleable__label-arrow:before {content: \"▾\";}#sk-container-id-3 div.sk-estimator input.sk-toggleable__control:checked~label.sk-toggleable__label {background-color: #d4ebff;}#sk-container-id-3 div.sk-label input.sk-toggleable__control:checked~label.sk-toggleable__label {background-color: #d4ebff;}#sk-container-id-3 input.sk-hidden--visually {border: 0;clip: rect(1px 1px 1px 1px);clip: rect(1px, 1px, 1px, 1px);height: 1px;margin: -1px;overflow: hidden;padding: 0;position: absolute;width: 1px;}#sk-container-id-3 div.sk-estimator {font-family: monospace;background-color: #f0f8ff;border: 1px dotted black;border-radius: 0.25em;box-sizing: border-box;margin-bottom: 0.5em;}#sk-container-id-3 div.sk-estimator:hover {background-color: #d4ebff;}#sk-container-id-3 div.sk-parallel-item::after {content: \"\";width: 100%;border-bottom: 1px solid gray;flex-grow: 1;}#sk-container-id-3 div.sk-label:hover label.sk-toggleable__label {background-color: #d4ebff;}#sk-container-id-3 div.sk-serial::before {content: \"\";position: absolute;border-left: 1px solid gray;box-sizing: border-box;top: 0;bottom: 0;left: 50%;z-index: 0;}#sk-container-id-3 div.sk-serial {display: flex;flex-direction: column;align-items: center;background-color: white;padding-right: 0.2em;padding-left: 0.2em;position: relative;}#sk-container-id-3 div.sk-item {position: relative;z-index: 1;}#sk-container-id-3 div.sk-parallel {display: flex;align-items: stretch;justify-content: center;background-color: white;position: relative;}#sk-container-id-3 div.sk-item::before, #sk-container-id-3 div.sk-parallel-item::before {content: \"\";position: absolute;border-left: 1px solid gray;box-sizing: border-box;top: 0;bottom: 0;left: 50%;z-index: -1;}#sk-container-id-3 div.sk-parallel-item {display: flex;flex-direction: column;z-index: 1;position: relative;background-color: white;}#sk-container-id-3 div.sk-parallel-item:first-child::after {align-self: flex-end;width: 50%;}#sk-container-id-3 div.sk-parallel-item:last-child::after {align-self: flex-start;width: 50%;}#sk-container-id-3 div.sk-parallel-item:only-child::after {width: 0;}#sk-container-id-3 div.sk-dashed-wrapped {border: 1px dashed gray;margin: 0 0.4em 0.5em 0.4em;box-sizing: border-box;padding-bottom: 0.4em;background-color: white;}#sk-container-id-3 div.sk-label label {font-family: monospace;font-weight: bold;display: inline-block;line-height: 1.2em;}#sk-container-id-3 div.sk-label-container {text-align: center;}#sk-container-id-3 div.sk-container {/* jupyter's `normalize.less` sets `[hidden] { display: none; }` but bootstrap.min.css set `[hidden] { display: none !important; }` so we also need the `!important` here to be able to override the default hidden behavior on the sphinx rendered scikit-learn.org. See: https://github.com/scikit-learn/scikit-learn/issues/21755 */display: inline-block !important;position: relative;}#sk-container-id-3 div.sk-text-repr-fallback {display: none;}</style><div id=\"sk-container-id-3\" class=\"sk-top-container\"><div class=\"sk-text-repr-fallback\"><pre>SVC()</pre><b>In a Jupyter environment, please rerun this cell to show the HTML representation or trust the notebook. <br />On GitHub, the HTML representation is unable to render, please try loading this page with nbviewer.org.</b></div><div class=\"sk-container\" hidden><div class=\"sk-item\"><div class=\"sk-estimator sk-toggleable\"><input class=\"sk-toggleable__control sk-hidden--visually\" id=\"sk-estimator-id-3\" type=\"checkbox\" checked><label for=\"sk-estimator-id-3\" class=\"sk-toggleable__label sk-toggleable__label-arrow\">SVC</label><div class=\"sk-toggleable__content\"><pre>SVC()</pre></div></div></div></div></div>"
            ]
          },
          "metadata": {},
          "execution_count": 42
        }
      ]
    },
    {
      "cell_type": "code",
      "source": [
        "model.fit(x_train,y_train)\n",
        "y_pred=model.predict(x_test)\n",
        "y_pred"
      ],
      "metadata": {
        "colab": {
          "base_uri": "https://localhost:8080/"
        },
        "id": "foiHwBICte6h",
        "outputId": "759283c6-70b0-449a-8d07-a76162086f2f"
      },
      "execution_count": 43,
      "outputs": [
        {
          "output_type": "execute_result",
          "data": {
            "text/plain": [
              "array([1, 1, 0, 1, 0, 0, 0, 0, 1, 0, 1, 0, 1, 1, 0, 1, 0, 0, 0, 0, 1, 1,\n",
              "       0, 1, 0, 1, 1, 1, 0, 0, 0, 1, 0, 0, 0, 1, 1, 1, 1, 1, 1, 0, 0, 1,\n",
              "       1, 1, 0, 1, 1, 0, 1])"
            ]
          },
          "metadata": {},
          "execution_count": 43
        }
      ]
    },
    {
      "cell_type": "code",
      "source": [
        "from sklearn.metrics import confusion_matrix,accuracy_score\n",
        "confusion_matrix(y_test,y_pred)\n",
        "model.score(x_test,y_test)"
      ],
      "metadata": {
        "colab": {
          "base_uri": "https://localhost:8080/"
        },
        "id": "8DZJLy5ottYH",
        "outputId": "0ab5e120-eb44-42ce-c5a4-610516884a50"
      },
      "execution_count": 47,
      "outputs": [
        {
          "output_type": "execute_result",
          "data": {
            "text/plain": [
              "0.7647058823529411"
            ]
          },
          "metadata": {},
          "execution_count": 47
        }
      ]
    },
    {
      "cell_type": "code",
      "source": [
        "accuracy_score(y_test,y_pred)"
      ],
      "metadata": {
        "colab": {
          "base_uri": "https://localhost:8080/"
        },
        "id": "lvwUggZXt51b",
        "outputId": "bf70485f-b223-4283-91d8-5759b7eff873"
      },
      "execution_count": 46,
      "outputs": [
        {
          "output_type": "execute_result",
          "data": {
            "text/plain": [
              "0.7647058823529411"
            ]
          },
          "metadata": {},
          "execution_count": 46
        }
      ]
    },
    {
      "cell_type": "code",
      "source": [
        "from sklearn.neighbors import KNeighborsClassifier\n",
        "model=KNeighborsClassifier(n_neighbors=5,metric=\"minkowski\")\n",
        "model\n",
        "model.fit(x_test,y_test)\n",
        "y_pred=model.predict(x_test)\n",
        "y_pred"
      ],
      "metadata": {
        "colab": {
          "base_uri": "https://localhost:8080/"
        },
        "id": "rkwujVISuDAu",
        "outputId": "99c16dd1-a06b-4076-ec78-cf460d088a21"
      },
      "execution_count": 54,
      "outputs": [
        {
          "output_type": "execute_result",
          "data": {
            "text/plain": [
              "array([1, 0, 0, 1, 0, 1, 0, 1, 1, 1, 1, 0, 0, 0, 0, 1, 0, 0, 0, 1, 1, 1,\n",
              "       0, 1, 0, 1, 1, 1, 1, 0, 0, 1, 0, 0, 0, 1, 1, 1, 1, 1, 1, 0, 0, 1,\n",
              "       1, 1, 0, 1, 1, 0, 0])"
            ]
          },
          "metadata": {},
          "execution_count": 54
        }
      ]
    },
    {
      "cell_type": "code",
      "source": [
        "from sklearn.metrics import confusion_matrix,accuracy_score\n",
        "confusion_matrix(y_test,y_pred)\n",
        "model.score(x_test,y_test)"
      ],
      "metadata": {
        "colab": {
          "base_uri": "https://localhost:8080/"
        },
        "id": "W1_LXYi7uXNk",
        "outputId": "75b4d860-ef15-49c2-dd97-c0c13df5a244"
      },
      "execution_count": 55,
      "outputs": [
        {
          "output_type": "execute_result",
          "data": {
            "text/plain": [
              "0.8627450980392157"
            ]
          },
          "metadata": {},
          "execution_count": 55
        }
      ]
    },
    {
      "cell_type": "code",
      "source": [
        "from sklearn.linear_model import LinearRegression\n",
        "import numpy as np\n",
        "model=LinearRegression()\n",
        "model.fit(x_train,y_train)\n"
      ],
      "metadata": {
        "colab": {
          "base_uri": "https://localhost:8080/",
          "height": 74
        },
        "id": "RTW4YhxYu3Bk",
        "outputId": "e8e8b41e-d466-4e28-b49d-a6dfd64b7b1f"
      },
      "execution_count": 62,
      "outputs": [
        {
          "output_type": "execute_result",
          "data": {
            "text/plain": [
              "LinearRegression()"
            ],
            "text/html": [
              "<style>#sk-container-id-5 {color: black;background-color: white;}#sk-container-id-5 pre{padding: 0;}#sk-container-id-5 div.sk-toggleable {background-color: white;}#sk-container-id-5 label.sk-toggleable__label {cursor: pointer;display: block;width: 100%;margin-bottom: 0;padding: 0.3em;box-sizing: border-box;text-align: center;}#sk-container-id-5 label.sk-toggleable__label-arrow:before {content: \"▸\";float: left;margin-right: 0.25em;color: #696969;}#sk-container-id-5 label.sk-toggleable__label-arrow:hover:before {color: black;}#sk-container-id-5 div.sk-estimator:hover label.sk-toggleable__label-arrow:before {color: black;}#sk-container-id-5 div.sk-toggleable__content {max-height: 0;max-width: 0;overflow: hidden;text-align: left;background-color: #f0f8ff;}#sk-container-id-5 div.sk-toggleable__content pre {margin: 0.2em;color: black;border-radius: 0.25em;background-color: #f0f8ff;}#sk-container-id-5 input.sk-toggleable__control:checked~div.sk-toggleable__content {max-height: 200px;max-width: 100%;overflow: auto;}#sk-container-id-5 input.sk-toggleable__control:checked~label.sk-toggleable__label-arrow:before {content: \"▾\";}#sk-container-id-5 div.sk-estimator input.sk-toggleable__control:checked~label.sk-toggleable__label {background-color: #d4ebff;}#sk-container-id-5 div.sk-label input.sk-toggleable__control:checked~label.sk-toggleable__label {background-color: #d4ebff;}#sk-container-id-5 input.sk-hidden--visually {border: 0;clip: rect(1px 1px 1px 1px);clip: rect(1px, 1px, 1px, 1px);height: 1px;margin: -1px;overflow: hidden;padding: 0;position: absolute;width: 1px;}#sk-container-id-5 div.sk-estimator {font-family: monospace;background-color: #f0f8ff;border: 1px dotted black;border-radius: 0.25em;box-sizing: border-box;margin-bottom: 0.5em;}#sk-container-id-5 div.sk-estimator:hover {background-color: #d4ebff;}#sk-container-id-5 div.sk-parallel-item::after {content: \"\";width: 100%;border-bottom: 1px solid gray;flex-grow: 1;}#sk-container-id-5 div.sk-label:hover label.sk-toggleable__label {background-color: #d4ebff;}#sk-container-id-5 div.sk-serial::before {content: \"\";position: absolute;border-left: 1px solid gray;box-sizing: border-box;top: 0;bottom: 0;left: 50%;z-index: 0;}#sk-container-id-5 div.sk-serial {display: flex;flex-direction: column;align-items: center;background-color: white;padding-right: 0.2em;padding-left: 0.2em;position: relative;}#sk-container-id-5 div.sk-item {position: relative;z-index: 1;}#sk-container-id-5 div.sk-parallel {display: flex;align-items: stretch;justify-content: center;background-color: white;position: relative;}#sk-container-id-5 div.sk-item::before, #sk-container-id-5 div.sk-parallel-item::before {content: \"\";position: absolute;border-left: 1px solid gray;box-sizing: border-box;top: 0;bottom: 0;left: 50%;z-index: -1;}#sk-container-id-5 div.sk-parallel-item {display: flex;flex-direction: column;z-index: 1;position: relative;background-color: white;}#sk-container-id-5 div.sk-parallel-item:first-child::after {align-self: flex-end;width: 50%;}#sk-container-id-5 div.sk-parallel-item:last-child::after {align-self: flex-start;width: 50%;}#sk-container-id-5 div.sk-parallel-item:only-child::after {width: 0;}#sk-container-id-5 div.sk-dashed-wrapped {border: 1px dashed gray;margin: 0 0.4em 0.5em 0.4em;box-sizing: border-box;padding-bottom: 0.4em;background-color: white;}#sk-container-id-5 div.sk-label label {font-family: monospace;font-weight: bold;display: inline-block;line-height: 1.2em;}#sk-container-id-5 div.sk-label-container {text-align: center;}#sk-container-id-5 div.sk-container {/* jupyter's `normalize.less` sets `[hidden] { display: none; }` but bootstrap.min.css set `[hidden] { display: none !important; }` so we also need the `!important` here to be able to override the default hidden behavior on the sphinx rendered scikit-learn.org. See: https://github.com/scikit-learn/scikit-learn/issues/21755 */display: inline-block !important;position: relative;}#sk-container-id-5 div.sk-text-repr-fallback {display: none;}</style><div id=\"sk-container-id-5\" class=\"sk-top-container\"><div class=\"sk-text-repr-fallback\"><pre>LinearRegression()</pre><b>In a Jupyter environment, please rerun this cell to show the HTML representation or trust the notebook. <br />On GitHub, the HTML representation is unable to render, please try loading this page with nbviewer.org.</b></div><div class=\"sk-container\" hidden><div class=\"sk-item\"><div class=\"sk-estimator sk-toggleable\"><input class=\"sk-toggleable__control sk-hidden--visually\" id=\"sk-estimator-id-5\" type=\"checkbox\" checked><label for=\"sk-estimator-id-5\" class=\"sk-toggleable__label sk-toggleable__label-arrow\">LinearRegression</label><div class=\"sk-toggleable__content\"><pre>LinearRegression()</pre></div></div></div></div></div>"
            ]
          },
          "metadata": {},
          "execution_count": 62
        }
      ]
    },
    {
      "cell_type": "code",
      "source": [
        "y_pred=model.predict(x_test)\n",
        "np.sort(y_pred)"
      ],
      "metadata": {
        "colab": {
          "base_uri": "https://localhost:8080/"
        },
        "id": "aPSufZL-v6eT",
        "outputId": "6ae93e1e-264b-456b-aa1b-1590b919638f"
      },
      "execution_count": 63,
      "outputs": [
        {
          "output_type": "execute_result",
          "data": {
            "text/plain": [
              "array([-0.26614652, -0.02361966, -0.0190455 , -0.01725201,  0.04046775,\n",
              "        0.07934947,  0.10010667,  0.10214517,  0.13046029,  0.13265097,\n",
              "        0.1580648 ,  0.23366034,  0.27085011,  0.29593725,  0.30085425,\n",
              "        0.30534673,  0.35923238,  0.36445826,  0.38274241,  0.41776721,\n",
              "        0.42716633,  0.43155435,  0.48007728,  0.4836701 ,  0.50614948,\n",
              "        0.51032271,  0.53002062,  0.5324526 ,  0.54577123,  0.59471416,\n",
              "        0.59764489,  0.68069388,  0.69550795,  0.71651096,  0.72813021,\n",
              "        0.73684816,  0.74582729,  0.74593468,  0.74773109,  0.75729355,\n",
              "        0.80515732,  0.83944208,  0.84302826,  0.87415056,  0.87731966,\n",
              "        0.91376567,  0.92253959,  1.01789563,  1.01858344,  1.04993375,\n",
              "        1.13242805])"
            ]
          },
          "metadata": {},
          "execution_count": 63
        }
      ]
    },
    {
      "cell_type": "code",
      "source": [
        "from sklearn.metrics import confusion_matrix,accuracy_score\n",
        "model.score(x_test,y_test)\n"
      ],
      "metadata": {
        "colab": {
          "base_uri": "https://localhost:8080/"
        },
        "id": "r617_Z_9vlvt",
        "outputId": "c51fe94f-1b35-4a21-cc0e-5ba9a410ddaa"
      },
      "execution_count": 65,
      "outputs": [
        {
          "output_type": "execute_result",
          "data": {
            "text/plain": [
              "0.4474567242647731"
            ]
          },
          "metadata": {},
          "execution_count": 65
        }
      ]
    },
    {
      "cell_type": "code",
      "source": [
        "from sklearn.naive_bayes import GaussianNB\n",
        "model=GaussianNB()\n",
        "model\n"
      ],
      "metadata": {
        "colab": {
          "base_uri": "https://localhost:8080/",
          "height": 74
        },
        "id": "-4OH1IjjvqHE",
        "outputId": "4ff5fe03-468f-4fa3-c9c6-7137bf78bc54"
      },
      "execution_count": 70,
      "outputs": [
        {
          "output_type": "execute_result",
          "data": {
            "text/plain": [
              "GaussianNB()"
            ],
            "text/html": [
              "<style>#sk-container-id-6 {color: black;background-color: white;}#sk-container-id-6 pre{padding: 0;}#sk-container-id-6 div.sk-toggleable {background-color: white;}#sk-container-id-6 label.sk-toggleable__label {cursor: pointer;display: block;width: 100%;margin-bottom: 0;padding: 0.3em;box-sizing: border-box;text-align: center;}#sk-container-id-6 label.sk-toggleable__label-arrow:before {content: \"▸\";float: left;margin-right: 0.25em;color: #696969;}#sk-container-id-6 label.sk-toggleable__label-arrow:hover:before {color: black;}#sk-container-id-6 div.sk-estimator:hover label.sk-toggleable__label-arrow:before {color: black;}#sk-container-id-6 div.sk-toggleable__content {max-height: 0;max-width: 0;overflow: hidden;text-align: left;background-color: #f0f8ff;}#sk-container-id-6 div.sk-toggleable__content pre {margin: 0.2em;color: black;border-radius: 0.25em;background-color: #f0f8ff;}#sk-container-id-6 input.sk-toggleable__control:checked~div.sk-toggleable__content {max-height: 200px;max-width: 100%;overflow: auto;}#sk-container-id-6 input.sk-toggleable__control:checked~label.sk-toggleable__label-arrow:before {content: \"▾\";}#sk-container-id-6 div.sk-estimator input.sk-toggleable__control:checked~label.sk-toggleable__label {background-color: #d4ebff;}#sk-container-id-6 div.sk-label input.sk-toggleable__control:checked~label.sk-toggleable__label {background-color: #d4ebff;}#sk-container-id-6 input.sk-hidden--visually {border: 0;clip: rect(1px 1px 1px 1px);clip: rect(1px, 1px, 1px, 1px);height: 1px;margin: -1px;overflow: hidden;padding: 0;position: absolute;width: 1px;}#sk-container-id-6 div.sk-estimator {font-family: monospace;background-color: #f0f8ff;border: 1px dotted black;border-radius: 0.25em;box-sizing: border-box;margin-bottom: 0.5em;}#sk-container-id-6 div.sk-estimator:hover {background-color: #d4ebff;}#sk-container-id-6 div.sk-parallel-item::after {content: \"\";width: 100%;border-bottom: 1px solid gray;flex-grow: 1;}#sk-container-id-6 div.sk-label:hover label.sk-toggleable__label {background-color: #d4ebff;}#sk-container-id-6 div.sk-serial::before {content: \"\";position: absolute;border-left: 1px solid gray;box-sizing: border-box;top: 0;bottom: 0;left: 50%;z-index: 0;}#sk-container-id-6 div.sk-serial {display: flex;flex-direction: column;align-items: center;background-color: white;padding-right: 0.2em;padding-left: 0.2em;position: relative;}#sk-container-id-6 div.sk-item {position: relative;z-index: 1;}#sk-container-id-6 div.sk-parallel {display: flex;align-items: stretch;justify-content: center;background-color: white;position: relative;}#sk-container-id-6 div.sk-item::before, #sk-container-id-6 div.sk-parallel-item::before {content: \"\";position: absolute;border-left: 1px solid gray;box-sizing: border-box;top: 0;bottom: 0;left: 50%;z-index: -1;}#sk-container-id-6 div.sk-parallel-item {display: flex;flex-direction: column;z-index: 1;position: relative;background-color: white;}#sk-container-id-6 div.sk-parallel-item:first-child::after {align-self: flex-end;width: 50%;}#sk-container-id-6 div.sk-parallel-item:last-child::after {align-self: flex-start;width: 50%;}#sk-container-id-6 div.sk-parallel-item:only-child::after {width: 0;}#sk-container-id-6 div.sk-dashed-wrapped {border: 1px dashed gray;margin: 0 0.4em 0.5em 0.4em;box-sizing: border-box;padding-bottom: 0.4em;background-color: white;}#sk-container-id-6 div.sk-label label {font-family: monospace;font-weight: bold;display: inline-block;line-height: 1.2em;}#sk-container-id-6 div.sk-label-container {text-align: center;}#sk-container-id-6 div.sk-container {/* jupyter's `normalize.less` sets `[hidden] { display: none; }` but bootstrap.min.css set `[hidden] { display: none !important; }` so we also need the `!important` here to be able to override the default hidden behavior on the sphinx rendered scikit-learn.org. See: https://github.com/scikit-learn/scikit-learn/issues/21755 */display: inline-block !important;position: relative;}#sk-container-id-6 div.sk-text-repr-fallback {display: none;}</style><div id=\"sk-container-id-6\" class=\"sk-top-container\"><div class=\"sk-text-repr-fallback\"><pre>GaussianNB()</pre><b>In a Jupyter environment, please rerun this cell to show the HTML representation or trust the notebook. <br />On GitHub, the HTML representation is unable to render, please try loading this page with nbviewer.org.</b></div><div class=\"sk-container\" hidden><div class=\"sk-item\"><div class=\"sk-estimator sk-toggleable\"><input class=\"sk-toggleable__control sk-hidden--visually\" id=\"sk-estimator-id-6\" type=\"checkbox\" checked><label for=\"sk-estimator-id-6\" class=\"sk-toggleable__label sk-toggleable__label-arrow\">GaussianNB</label><div class=\"sk-toggleable__content\"><pre>GaussianNB()</pre></div></div></div></div></div>"
            ]
          },
          "metadata": {},
          "execution_count": 70
        }
      ]
    },
    {
      "cell_type": "code",
      "source": [
        "model.fit(x_test,y_test)\n",
        "y_pred=model.predict(x_test)\n",
        "y_pred"
      ],
      "metadata": {
        "colab": {
          "base_uri": "https://localhost:8080/"
        },
        "id": "Anmpwlhzwsa7",
        "outputId": "a8adac79-0a91-4a7f-8651-32ddb92e895d"
      },
      "execution_count": 71,
      "outputs": [
        {
          "output_type": "execute_result",
          "data": {
            "text/plain": [
              "array([1, 1, 0, 1, 0, 0, 0, 1, 1, 1, 1, 0, 1, 1, 0, 1, 0, 0, 0, 0, 1, 1,\n",
              "       0, 1, 0, 1, 1, 1, 1, 0, 0, 1, 0, 0, 0, 1, 1, 1, 1, 1, 1, 0, 0, 1,\n",
              "       1, 1, 0, 1, 1, 0, 0])"
            ]
          },
          "metadata": {},
          "execution_count": 71
        }
      ]
    },
    {
      "cell_type": "code",
      "source": [
        "from sklearn.metrics import confusion_matrix\n",
        "model.score(x_test,y_test)"
      ],
      "metadata": {
        "colab": {
          "base_uri": "https://localhost:8080/"
        },
        "id": "BbY4yghFxTQd",
        "outputId": "be3a73e5-255f-40cf-8ea4-a43781c18441"
      },
      "execution_count": 78,
      "outputs": [
        {
          "output_type": "execute_result",
          "data": {
            "text/plain": [
              "0.8431372549019608"
            ]
          },
          "metadata": {},
          "execution_count": 78
        }
      ]
    },
    {
      "cell_type": "code",
      "source": [
        "from sklearn.tree import DecisionTreeClassifier\n",
        "model=DecisionTreeClassifier()\n",
        "model"
      ],
      "metadata": {
        "colab": {
          "base_uri": "https://localhost:8080/",
          "height": 74
        },
        "id": "ZHbKd_2KxXNV",
        "outputId": "9c09560d-de20-4b63-b2f3-d37cb7b304d9"
      },
      "execution_count": 81,
      "outputs": [
        {
          "output_type": "execute_result",
          "data": {
            "text/plain": [
              "DecisionTreeClassifier()"
            ],
            "text/html": [
              "<style>#sk-container-id-7 {color: black;background-color: white;}#sk-container-id-7 pre{padding: 0;}#sk-container-id-7 div.sk-toggleable {background-color: white;}#sk-container-id-7 label.sk-toggleable__label {cursor: pointer;display: block;width: 100%;margin-bottom: 0;padding: 0.3em;box-sizing: border-box;text-align: center;}#sk-container-id-7 label.sk-toggleable__label-arrow:before {content: \"▸\";float: left;margin-right: 0.25em;color: #696969;}#sk-container-id-7 label.sk-toggleable__label-arrow:hover:before {color: black;}#sk-container-id-7 div.sk-estimator:hover label.sk-toggleable__label-arrow:before {color: black;}#sk-container-id-7 div.sk-toggleable__content {max-height: 0;max-width: 0;overflow: hidden;text-align: left;background-color: #f0f8ff;}#sk-container-id-7 div.sk-toggleable__content pre {margin: 0.2em;color: black;border-radius: 0.25em;background-color: #f0f8ff;}#sk-container-id-7 input.sk-toggleable__control:checked~div.sk-toggleable__content {max-height: 200px;max-width: 100%;overflow: auto;}#sk-container-id-7 input.sk-toggleable__control:checked~label.sk-toggleable__label-arrow:before {content: \"▾\";}#sk-container-id-7 div.sk-estimator input.sk-toggleable__control:checked~label.sk-toggleable__label {background-color: #d4ebff;}#sk-container-id-7 div.sk-label input.sk-toggleable__control:checked~label.sk-toggleable__label {background-color: #d4ebff;}#sk-container-id-7 input.sk-hidden--visually {border: 0;clip: rect(1px 1px 1px 1px);clip: rect(1px, 1px, 1px, 1px);height: 1px;margin: -1px;overflow: hidden;padding: 0;position: absolute;width: 1px;}#sk-container-id-7 div.sk-estimator {font-family: monospace;background-color: #f0f8ff;border: 1px dotted black;border-radius: 0.25em;box-sizing: border-box;margin-bottom: 0.5em;}#sk-container-id-7 div.sk-estimator:hover {background-color: #d4ebff;}#sk-container-id-7 div.sk-parallel-item::after {content: \"\";width: 100%;border-bottom: 1px solid gray;flex-grow: 1;}#sk-container-id-7 div.sk-label:hover label.sk-toggleable__label {background-color: #d4ebff;}#sk-container-id-7 div.sk-serial::before {content: \"\";position: absolute;border-left: 1px solid gray;box-sizing: border-box;top: 0;bottom: 0;left: 50%;z-index: 0;}#sk-container-id-7 div.sk-serial {display: flex;flex-direction: column;align-items: center;background-color: white;padding-right: 0.2em;padding-left: 0.2em;position: relative;}#sk-container-id-7 div.sk-item {position: relative;z-index: 1;}#sk-container-id-7 div.sk-parallel {display: flex;align-items: stretch;justify-content: center;background-color: white;position: relative;}#sk-container-id-7 div.sk-item::before, #sk-container-id-7 div.sk-parallel-item::before {content: \"\";position: absolute;border-left: 1px solid gray;box-sizing: border-box;top: 0;bottom: 0;left: 50%;z-index: -1;}#sk-container-id-7 div.sk-parallel-item {display: flex;flex-direction: column;z-index: 1;position: relative;background-color: white;}#sk-container-id-7 div.sk-parallel-item:first-child::after {align-self: flex-end;width: 50%;}#sk-container-id-7 div.sk-parallel-item:last-child::after {align-self: flex-start;width: 50%;}#sk-container-id-7 div.sk-parallel-item:only-child::after {width: 0;}#sk-container-id-7 div.sk-dashed-wrapped {border: 1px dashed gray;margin: 0 0.4em 0.5em 0.4em;box-sizing: border-box;padding-bottom: 0.4em;background-color: white;}#sk-container-id-7 div.sk-label label {font-family: monospace;font-weight: bold;display: inline-block;line-height: 1.2em;}#sk-container-id-7 div.sk-label-container {text-align: center;}#sk-container-id-7 div.sk-container {/* jupyter's `normalize.less` sets `[hidden] { display: none; }` but bootstrap.min.css set `[hidden] { display: none !important; }` so we also need the `!important` here to be able to override the default hidden behavior on the sphinx rendered scikit-learn.org. See: https://github.com/scikit-learn/scikit-learn/issues/21755 */display: inline-block !important;position: relative;}#sk-container-id-7 div.sk-text-repr-fallback {display: none;}</style><div id=\"sk-container-id-7\" class=\"sk-top-container\"><div class=\"sk-text-repr-fallback\"><pre>DecisionTreeClassifier()</pre><b>In a Jupyter environment, please rerun this cell to show the HTML representation or trust the notebook. <br />On GitHub, the HTML representation is unable to render, please try loading this page with nbviewer.org.</b></div><div class=\"sk-container\" hidden><div class=\"sk-item\"><div class=\"sk-estimator sk-toggleable\"><input class=\"sk-toggleable__control sk-hidden--visually\" id=\"sk-estimator-id-7\" type=\"checkbox\" checked><label for=\"sk-estimator-id-7\" class=\"sk-toggleable__label sk-toggleable__label-arrow\">DecisionTreeClassifier</label><div class=\"sk-toggleable__content\"><pre>DecisionTreeClassifier()</pre></div></div></div></div></div>"
            ]
          },
          "metadata": {},
          "execution_count": 81
        }
      ]
    },
    {
      "cell_type": "code",
      "source": [
        "model.fit(x_train,y_train)\n",
        "y_pred=model.predict(x_test)\n",
        "y_pred"
      ],
      "metadata": {
        "colab": {
          "base_uri": "https://localhost:8080/"
        },
        "id": "MnbV30Fvx9Nx",
        "outputId": "0dbe2ff7-c6d3-43bf-c233-e87fe5b0c495"
      },
      "execution_count": 82,
      "outputs": [
        {
          "output_type": "execute_result",
          "data": {
            "text/plain": [
              "array([1, 1, 0, 1, 0, 1, 1, 0, 1, 0, 1, 0, 0, 1, 0, 1, 0, 0, 1, 0, 1, 1,\n",
              "       0, 1, 0, 0, 1, 1, 0, 0, 0, 1, 0, 0, 0, 1, 1, 1, 1, 1, 1, 1, 1, 1,\n",
              "       1, 1, 0, 1, 1, 0, 1])"
            ]
          },
          "metadata": {},
          "execution_count": 82
        }
      ]
    },
    {
      "cell_type": "code",
      "source": [
        "c"
      ],
      "metadata": {
        "colab": {
          "base_uri": "https://localhost:8080/"
        },
        "id": "0yS8HYp-yPhX",
        "outputId": "650d7912-2a7a-4137-f76b-20a15646ccdd"
      },
      "execution_count": 87,
      "outputs": [
        {
          "output_type": "execute_result",
          "data": {
            "text/plain": [
              "0.7450980392156863"
            ]
          },
          "metadata": {},
          "execution_count": 87
        }
      ]
    },
    {
      "cell_type": "code",
      "source": [
        "from sklearn.ensemble import RandomForestClassifier\n",
        "model=RandomForestClassifier()\n",
        "model"
      ],
      "metadata": {
        "colab": {
          "base_uri": "https://localhost:8080/",
          "height": 74
        },
        "id": "lCTDQzHNyT10",
        "outputId": "689652e5-320d-4402-a797-fb3d88295fa7"
      },
      "execution_count": 92,
      "outputs": [
        {
          "output_type": "execute_result",
          "data": {
            "text/plain": [
              "RandomForestClassifier()"
            ],
            "text/html": [
              "<style>#sk-container-id-8 {color: black;background-color: white;}#sk-container-id-8 pre{padding: 0;}#sk-container-id-8 div.sk-toggleable {background-color: white;}#sk-container-id-8 label.sk-toggleable__label {cursor: pointer;display: block;width: 100%;margin-bottom: 0;padding: 0.3em;box-sizing: border-box;text-align: center;}#sk-container-id-8 label.sk-toggleable__label-arrow:before {content: \"▸\";float: left;margin-right: 0.25em;color: #696969;}#sk-container-id-8 label.sk-toggleable__label-arrow:hover:before {color: black;}#sk-container-id-8 div.sk-estimator:hover label.sk-toggleable__label-arrow:before {color: black;}#sk-container-id-8 div.sk-toggleable__content {max-height: 0;max-width: 0;overflow: hidden;text-align: left;background-color: #f0f8ff;}#sk-container-id-8 div.sk-toggleable__content pre {margin: 0.2em;color: black;border-radius: 0.25em;background-color: #f0f8ff;}#sk-container-id-8 input.sk-toggleable__control:checked~div.sk-toggleable__content {max-height: 200px;max-width: 100%;overflow: auto;}#sk-container-id-8 input.sk-toggleable__control:checked~label.sk-toggleable__label-arrow:before {content: \"▾\";}#sk-container-id-8 div.sk-estimator input.sk-toggleable__control:checked~label.sk-toggleable__label {background-color: #d4ebff;}#sk-container-id-8 div.sk-label input.sk-toggleable__control:checked~label.sk-toggleable__label {background-color: #d4ebff;}#sk-container-id-8 input.sk-hidden--visually {border: 0;clip: rect(1px 1px 1px 1px);clip: rect(1px, 1px, 1px, 1px);height: 1px;margin: -1px;overflow: hidden;padding: 0;position: absolute;width: 1px;}#sk-container-id-8 div.sk-estimator {font-family: monospace;background-color: #f0f8ff;border: 1px dotted black;border-radius: 0.25em;box-sizing: border-box;margin-bottom: 0.5em;}#sk-container-id-8 div.sk-estimator:hover {background-color: #d4ebff;}#sk-container-id-8 div.sk-parallel-item::after {content: \"\";width: 100%;border-bottom: 1px solid gray;flex-grow: 1;}#sk-container-id-8 div.sk-label:hover label.sk-toggleable__label {background-color: #d4ebff;}#sk-container-id-8 div.sk-serial::before {content: \"\";position: absolute;border-left: 1px solid gray;box-sizing: border-box;top: 0;bottom: 0;left: 50%;z-index: 0;}#sk-container-id-8 div.sk-serial {display: flex;flex-direction: column;align-items: center;background-color: white;padding-right: 0.2em;padding-left: 0.2em;position: relative;}#sk-container-id-8 div.sk-item {position: relative;z-index: 1;}#sk-container-id-8 div.sk-parallel {display: flex;align-items: stretch;justify-content: center;background-color: white;position: relative;}#sk-container-id-8 div.sk-item::before, #sk-container-id-8 div.sk-parallel-item::before {content: \"\";position: absolute;border-left: 1px solid gray;box-sizing: border-box;top: 0;bottom: 0;left: 50%;z-index: -1;}#sk-container-id-8 div.sk-parallel-item {display: flex;flex-direction: column;z-index: 1;position: relative;background-color: white;}#sk-container-id-8 div.sk-parallel-item:first-child::after {align-self: flex-end;width: 50%;}#sk-container-id-8 div.sk-parallel-item:last-child::after {align-self: flex-start;width: 50%;}#sk-container-id-8 div.sk-parallel-item:only-child::after {width: 0;}#sk-container-id-8 div.sk-dashed-wrapped {border: 1px dashed gray;margin: 0 0.4em 0.5em 0.4em;box-sizing: border-box;padding-bottom: 0.4em;background-color: white;}#sk-container-id-8 div.sk-label label {font-family: monospace;font-weight: bold;display: inline-block;line-height: 1.2em;}#sk-container-id-8 div.sk-label-container {text-align: center;}#sk-container-id-8 div.sk-container {/* jupyter's `normalize.less` sets `[hidden] { display: none; }` but bootstrap.min.css set `[hidden] { display: none !important; }` so we also need the `!important` here to be able to override the default hidden behavior on the sphinx rendered scikit-learn.org. See: https://github.com/scikit-learn/scikit-learn/issues/21755 */display: inline-block !important;position: relative;}#sk-container-id-8 div.sk-text-repr-fallback {display: none;}</style><div id=\"sk-container-id-8\" class=\"sk-top-container\"><div class=\"sk-text-repr-fallback\"><pre>RandomForestClassifier()</pre><b>In a Jupyter environment, please rerun this cell to show the HTML representation or trust the notebook. <br />On GitHub, the HTML representation is unable to render, please try loading this page with nbviewer.org.</b></div><div class=\"sk-container\" hidden><div class=\"sk-item\"><div class=\"sk-estimator sk-toggleable\"><input class=\"sk-toggleable__control sk-hidden--visually\" id=\"sk-estimator-id-8\" type=\"checkbox\" checked><label for=\"sk-estimator-id-8\" class=\"sk-toggleable__label sk-toggleable__label-arrow\">RandomForestClassifier</label><div class=\"sk-toggleable__content\"><pre>RandomForestClassifier()</pre></div></div></div></div></div>"
            ]
          },
          "metadata": {},
          "execution_count": 92
        }
      ]
    },
    {
      "cell_type": "code",
      "source": [
        "model.fit(x_train,y_train)\n",
        "y_pred=model.predict(x_test)\n",
        "y_pred"
      ],
      "metadata": {
        "colab": {
          "base_uri": "https://localhost:8080/"
        },
        "id": "HgAtbnkfy2j8",
        "outputId": "f2729531-f9e8-4f4b-c616-cc95e9debea7"
      },
      "execution_count": 93,
      "outputs": [
        {
          "output_type": "execute_result",
          "data": {
            "text/plain": [
              "array([1, 1, 0, 0, 0, 0, 1, 0, 1, 0, 1, 0, 0, 1, 0, 1, 0, 0, 0, 0, 0, 1,\n",
              "       0, 1, 0, 1, 1, 1, 0, 0, 0, 1, 0, 0, 0, 0, 1, 1, 1, 1, 1, 0, 0, 1,\n",
              "       0, 1, 0, 1, 1, 0, 1])"
            ]
          },
          "metadata": {},
          "execution_count": 93
        }
      ]
    },
    {
      "cell_type": "code",
      "source": [
        "from sklearn.metrics import confusion_matrix,accuracy_score\n",
        "accuracy_score(y_test,y_pred)"
      ],
      "metadata": {
        "colab": {
          "base_uri": "https://localhost:8080/"
        },
        "id": "SC-_QxA_zKqy",
        "outputId": "82e3d1ad-3e11-49dd-ac24-992db9b22763"
      },
      "execution_count": 94,
      "outputs": [
        {
          "output_type": "execute_result",
          "data": {
            "text/plain": [
              "0.7647058823529411"
            ]
          },
          "metadata": {},
          "execution_count": 94
        }
      ]
    },
    {
      "cell_type": "code",
      "source": [
        "from sklearn.tree import DecisionTreeClassifier\n",
        "from sklearn.ensemble import RandomForestClassifier\n",
        "from sklearn.svm import SVC\n",
        "from sklearn.linear_model import LinearRegression\n",
        "from sklearn.linear_model import LogisticRegression\n",
        "from sklearn.naive_bayes import GaussianNB\n",
        "from sklearn.neighbors  import KNeighborsClassifier\n",
        "from sklearn.preprocessing import LabelEncoder\n",
        "from sklearn.model_selection import train_test_split\n",
        "from sklearn.metrics import confusion_matrix,accuracy_score"
      ],
      "metadata": {
        "id": "nQtKernXzOab"
      },
      "execution_count": 105,
      "outputs": []
    },
    {
      "cell_type": "code",
      "source": [],
      "metadata": {
        "id": "X8A6deEN1Es-"
      },
      "execution_count": null,
      "outputs": []
    }
  ]
}